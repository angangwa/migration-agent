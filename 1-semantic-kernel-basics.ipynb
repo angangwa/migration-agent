{
 "cells": [
  {
   "cell_type": "markdown",
   "metadata": {},
   "source": [
    "# Semantic Kernel Basics - Getting Started with AI Agents\n",
    "\n",
    "Welcome to the world of Semantic Kernel! This notebook will guide you through the fundamentals of building AI agents using Microsoft's Semantic Kernel SDK.\n",
    "\n",
    "## What is Semantic Kernel?\n",
    "\n",
    "Semantic Kernel is a lightweight, open-source development kit that lets you easily build AI agents and integrate the latest AI models into your Python, C#, or Java codebase. It serves as an efficient middleware that enables rapid delivery of enterprise-grade AI solutions.\n",
    "\n",
    "### Key Features:\n",
    "- **Model Flexibility**: Built-in support for OpenAI, Azure OpenAI, Hugging Face, NVIDIA, and more\n",
    "- **Agent Framework**: Build modular AI agents with access to tools/plugins, memory, and planning capabilities\n",
    "- **Plugin Ecosystem**: Support for native code functions, prompt templates, OpenAPI specs, or Model Context Protocol (MCP)\n",
    "- **Production Ready**: Version 1.0+ support with commitment to non-breaking changes\n",
    "\n",
    "## Resources\n",
    "- [Official Documentation](https://learn.microsoft.com/en-us/semantic-kernel/)\n",
    "- [GitHub Repository](https://github.com/microsoft/semantic-kernel)\n",
    "- [PyPI Package](https://pypi.org/project/semantic-kernel/)\n",
    "\n",
    "Let's get started!"
   ]
  },
  {
   "cell_type": "markdown",
   "metadata": {},
   "source": [
    "## Installation and Setup\n",
    "\n",
    "First, let's install the required packages and set up our environment."
   ]
  },
  {
   "cell_type": "code",
   "execution_count": null,
   "metadata": {},
   "outputs": [],
   "source": [
    "# Install required packages\n",
    "# !pip install semantic-kernel python-dotenv"
   ]
  },
  {
   "cell_type": "markdown",
   "metadata": {},
   "source": [
    "## Environment Configuration\n",
    "\n",
    "You'll need to configure your AI service. Create a `.env` file in your project root with the following configurations:\n",
    "\n",
    "### Azure OpenAI models\n",
    "\n",
    "```\n",
    "# Azure OpenAI Configuration - Default Model (GPT-4.1)\n",
    "AZURE_OPENAI_DEPLOYMENT_NAME=gpt-4.1\n",
    "AZURE_OPENAI_ENDPOINT=<>\n",
    "AZURE_OPENAI_API_KEY=<>\n",
    "\n",
    "# Azure OpenAI Configuration - Reasoning Model (O4-mini)\n",
    "AZURE_REASONING_DEPLOYMENT_NAME=o4-mini\n",
    "AZURE_REASONING_ENDPOINT=<>\n",
    "AZURE_REASONING_API_KEY=<>\n",
    "```\n",
    "\n",
    "For this tutorial, we'll use Azure OpenAI, but you can easily switch to OpenAI by uncommenting the relevant lines."
   ]
  },
  {
   "cell_type": "code",
   "execution_count": null,
   "metadata": {},
   "outputs": [
    {
     "name": "stdout",
     "output_type": "stream",
     "text": [
      "✅ Environment setup complete!\n"
     ]
    }
   ],
   "source": [
    "import asyncio\n",
    "try:\n",
    "    from typing import Annotated\n",
    "except ImportError:\n",
    "    from typing_extensions import Annotated\n",
    "\n",
    "import os\n",
    "from dotenv import load_dotenv\n",
    "\n",
    "# Semantic Kernel imports\n",
    "from semantic_kernel import Kernel\n",
    "from semantic_kernel.agents import Agent, ChatCompletionAgent, ChatHistoryAgentThread\n",
    "from semantic_kernel.connectors.ai.open_ai import AzureChatCompletion, OpenAIChatCompletion\n",
    "from semantic_kernel.connectors.ai.open_ai import OpenAIChatPromptExecutionSettings, AzureChatPromptExecutionSettings\n",
    "from semantic_kernel.contents.chat_history import ChatHistory\n",
    "from semantic_kernel.contents import ChatMessageContent, TextContent, ImageContent\n",
    "from semantic_kernel.contents.utils.author_role import AuthorRole\n",
    "from semantic_kernel.functions import kernel_function\n",
    "\n",
    "# Load environment variables from .env file\n",
    "load_dotenv()\n",
    "\n",
    "print(\"✅ Environment setup complete!\")"
   ]
  },
  {
   "cell_type": "markdown",
   "metadata": {},
   "source": [
    "## 1. Setting Up Chat Completion\n",
    "\n",
    "The foundation of Semantic Kernel is the chat completion service. This is how we connect to the AI models."
   ]
  },
  {
   "cell_type": "code",
   "execution_count": 4,
   "metadata": {},
   "outputs": [
    {
     "name": "stdout",
     "output_type": "stream",
     "text": [
      "✅ Chat completion service configured!\n"
     ]
    }
   ],
   "source": [
    "# Option 1: Azure OpenAI (recommended for enterprise)\n",
    "chat_completion = AzureChatCompletion(\n",
    "    api_key=os.getenv(\"AZURE_OPENAI_API_KEY\"),\n",
    "    endpoint=os.getenv(\"AZURE_OPENAI_ENDPOINT\"),\n",
    "    deployment_name=os.getenv(\"AZURE_OPENAI_DEPLOYMENT_NAME\"),\n",
    ")\n",
    "\n",
    "# Option 2: OpenAI (uncomment to use)\n",
    "# chat_completion = OpenAIChatCompletion(\n",
    "#     api_key=os.getenv(\"OPENAI_API_KEY\"),\n",
    "#     ai_model_id=os.getenv(\"OPENAI_MODEL_ID\", \"gpt-4o-mini\")\n",
    "# )\n",
    "\n",
    "# Other supported providers include: Azure AI inference, Bedrock, Anthropic, Vertex, Mistral, Ollama, and more.\n",
    "\n",
    "print(\"✅ Chat completion service configured!\")"
   ]
  },
  {
   "cell_type": "markdown",
   "metadata": {},
   "source": [
    "## 2. Basic Chat Interaction\n",
    "\n",
    "Let's start with the simplest possible interaction - sending a message and getting a response."
   ]
  },
  {
   "cell_type": "code",
   "execution_count": 5,
   "metadata": {},
   "outputs": [
    {
     "name": "stdout",
     "output_type": "stream",
     "text": [
      "AI Response: Hello! I’m doing well, thank you. How can I help you today?\n"
     ]
    }
   ],
   "source": [
    "# Create execution settings (optional - for controlling temperature, max tokens, etc.)\n",
    "execution_settings = AzureChatPromptExecutionSettings(\n",
    "    max_completion_tokens=2000\n",
    ")\n",
    "\n",
    "# Create a simple chat history\n",
    "chat_history = ChatHistory()\n",
    "chat_history.add_user_message(\"Hello, how are you?\")\n",
    "\n",
    "# Get a response from the AI\n",
    "response = await chat_completion.get_chat_message_content(\n",
    "    chat_history=chat_history, \n",
    "    settings=execution_settings\n",
    ")\n",
    "\n",
    "print(f\"AI Response: {response.content}\")"
   ]
  },
  {
   "cell_type": "markdown",
   "metadata": {},
   "source": [
    "## 3. Working with System Messages and Roles\n",
    "\n",
    "System messages help you set the behavior and personality of your AI assistant. Let's create a more sophisticated interaction."
   ]
  },
  {
   "cell_type": "code",
   "execution_count": 6,
   "metadata": {},
   "outputs": [
    {
     "name": "stdout",
     "output_type": "stream",
     "text": [
      "AI Response: Here are a few tips to guide your AI-development journey:\n",
      "\n",
      "• Build a strong foundation  \n",
      "  – Learn Python and brush up on linear algebra, probability and basic calculus.  \n",
      "\n",
      "• Understand core ML concepts  \n",
      "  – Study supervised vs. unsupervised learning, overfitting/underfitting and model evaluation metrics.  \n",
      "\n",
      "• Get hands-on with frameworks  \n",
      "  – Experiment in small projects using PyTorch or TensorFlow; follow official tutorials.  \n",
      "\n",
      "• Explore datasets and challenges  \n",
      "  – Try Kaggle competitions or public datasets to practice data cleaning, feature engineering and model tuning.  \n",
      "\n",
      "• Read and stay curious  \n",
      "  – Follow top AI blogs, research papers (arXiv) and newsletters to keep up with new ideas.  \n",
      "\n",
      "• Join a community  \n",
      "  – Participate in forums like Stack Overflow, Reddit’s r/MachineLearning or local meetups to ask questions and share knowledge.  \n",
      "\n",
      "• Keep ethics in mind  \n",
      "  – Think about bias, fairness and real-world impact as you design and deploy your models.  \n",
      "\n",
      "Every small project you finish builds your skills and confidence—enjoy the process and don’t hesitate to ask questions!\n"
     ]
    }
   ],
   "source": [
    "# Create a new chat history with a system message\n",
    "chat_history = ChatHistory()\n",
    "\n",
    "# Add a system message to set the AI's behavior\n",
    "chat_history.add_message(\n",
    "    ChatMessageContent(\n",
    "        role=AuthorRole.SYSTEM,\n",
    "        content=\"You are a helpful assistant that always answers in a friendly and encouraging tone. Keep responses concise but warm.\"\n",
    "    )\n",
    ")\n",
    "\n",
    "# Add a user message\n",
    "chat_history.add_user_message(\"I'm learning about AI development. Any tips?\")\n",
    "\n",
    "# Get the response\n",
    "response = await chat_completion.get_chat_message_content(\n",
    "    chat_history=chat_history, \n",
    "    settings=execution_settings\n",
    ")\n",
    "\n",
    "print(f\"AI Response: {response.content}\")"
   ]
  },
  {
   "cell_type": "markdown",
   "metadata": {},
   "source": [
    "## 4. Multimodal Interactions (Text + Images)\n",
    "\n",
    "Modern AI models can process both text and images. Let's try sending an image along with our message.\n",
    "\n",
    "**Note**: Make sure you have an image file in your project directory, or update the path below.\n",
    "\n",
    "See the image we are using:\n",
    "\n",
    "<details>\n",
    "\n",
    "<img src=\"resources/france.png\" width=\"800\" />\n",
    "\n",
    "</details>"
   ]
  },
  {
   "cell_type": "code",
   "execution_count": null,
   "metadata": {},
   "outputs": [
    {
     "name": "stdout",
     "output_type": "stream",
     "text": [
      "AI Response: The image shows a clear, sunny day in Paris with the Eiffel Tower rising prominently in the background. In the foreground, a French tricolore flag (blue, white, red vertical stripes) is mounted on a slender white pole, fluttering gently in the breeze. Below and around the tower, neatly trimmed green lawns and tree-lined walkways are dotted with small groups of people—tourists and locals—strolling, taking photos or relaxing. The sky is a bright blue with a few wispy white clouds, lending a vibrant contrast to the iron lattice structure of the monument.\n"
     ]
    }
   ],
   "source": [
    "# Create a multimodal message with both text and image\n",
    "chat_history = ChatHistory()\n",
    "\n",
    "# Add system message for image analysis\n",
    "chat_history.add_message(\n",
    "    ChatMessageContent(\n",
    "        role=AuthorRole.SYSTEM,\n",
    "        content=\"You are an expert at analyzing images. Provide detailed but concise descriptions.\"\n",
    "    )\n",
    ")\n",
    "\n",
    "# Add a multimodal user message\n",
    "try:\n",
    "    chat_history.add_message(\n",
    "        ChatMessageContent(\n",
    "            role=AuthorRole.USER,\n",
    "            name=\"User\",\n",
    "            items=[\n",
    "                TextContent(text=\"What can you tell me about this image?\"),\n",
    "                ImageContent.from_file(file_path=\"resources/france.png\", mime_type=\"image/png\")\n",
    "            ]\n",
    "        )\n",
    "    )\n",
    "    \n",
    "    response = await chat_completion.get_chat_message_content(\n",
    "        chat_history=chat_history, \n",
    "        settings=execution_settings\n",
    "    )\n",
    "    \n",
    "    print(f\"AI Response: {response.content}\")\n",
    "    \n",
    "except FileNotFoundError:\n",
    "    print(\"⚠️  Image file 'france.png' not found. Skipping multimodal example.\")\n",
    "    print(\"💡 To test this feature, add an image file to your project directory and update the path.\")"
   ]
  },
  {
   "cell_type": "markdown",
   "metadata": {},
   "source": [
    "## 5. Introduction to Agents\n",
    "\n",
    "Agents are the core building blocks of Semantic Kernel. They encapsulate AI models with specific instructions and capabilities."
   ]
  },
  {
   "cell_type": "code",
   "execution_count": 7,
   "metadata": {},
   "outputs": [
    {
     "name": "stdout",
     "output_type": "stream",
     "text": [
      "Agent Response: The capital of France is Paris.\n"
     ]
    }
   ],
   "source": [
    "# Create your first agent\n",
    "agent = ChatCompletionAgent(\n",
    "    service=chat_completion,\n",
    "    name=\"AssistantBot\",\n",
    "    instructions=\"You are a knowledgeable assistant that provides helpful answers in one or two sentences. Be concise but informative.\"\n",
    ")\n",
    "\n",
    "# Test the agent\n",
    "response = await agent.get_response(messages=\"What is the capital of France?\")\n",
    "print(f\"Agent Response: {response.message.content}\")"
   ]
  },
  {
   "cell_type": "markdown",
   "metadata": {},
   "source": [
    "## 6. Working with Conversation Threads\n",
    "\n",
    "Threads allow you to maintain conversation context across multiple interactions. This is essential for building conversational experiences."
   ]
  },
  {
   "cell_type": "code",
   "execution_count": null,
   "metadata": {},
   "outputs": [
    {
     "name": "stdout",
     "output_type": "stream",
     "text": [
      "Bot: Here are some ideas to get you started—feel free to let me know more about your travel dates, trip length or interests, and I can tailor these suggestions further:\n",
      "\n",
      "1. Major Destinations  \n",
      "  • Tokyo: ultra-modern city meets traditional temples (Senso-ji in Asakusa, Meiji Shrine in Harajuku), plus neighborhoods like Shibuya, Shinjuku, Akihabara and Odaiba.  \n",
      "  • Kyoto: over 1,000 temples and shrines, iconic Fushimi Inari Taisha gates, traditional tea houses in Gion and the Golden Pavilion (Kinkaku-ji).  \n",
      "  • Osaka: known for its street food (takoyaki, okonomiyaki), Dōtonbori nightlife and Osaka Castle.  \n",
      "\n",
      "2. Off-the-Beaten-Path & Regional Gems  \n",
      "  • Hiroshima & Miyajima: Peace Memorial Park and the “floating” Itsukushima Shrine.  \n",
      "  • Kanazawa: beautifully preserved samurai and geisha districts, Kenrokuen Garden.  \n",
      "  • Takayama & Shirakawa-go: traditional mountain villages and thatched-roof farmhouses.  \n",
      "  • Hokkaido (if you travel in summer, it’s cooler; winter offers world-class skiing and the Sapporo Snow Festival).  \n",
      "  • Okinawa (for beaches, subtropical islands and unique Ryukyu culture).  \n",
      "\n",
      "3. Practical Tips  \n",
      "  • Japan Rail Pass: if you plan to hit multiple regions using Shinkansen (bullet trains), a 7- or 14-day pass often pays off.  \n",
      "  • Accommodations: mix ryokans (traditional inns with tatami rooms and onsen baths) with business hotels or guesthouses to stretch your budget.  \n",
      "  • Cash vs. Card: many smaller shops and rural areas prefer cash—carry enough yen.  \n",
      "  • Language: basic phrases (“arigatō,” “sumimasen,” “onegaishimasu”) go a long way; most signs in major cities have English.  \n",
      "  • Etiquette: remove shoes when entering homes and some ryokans, respect quiet in trains, follow proper onsen etiquette (wash before entering).  \n",
      "\n",
      "4. Seasonal Highlights  \n",
      "  • Spring (late March–April): cherry blossoms (hanami) in parks like Ueno (Tokyo) and Maruyama (Kyoto).  \n",
      "  • Summer (June–August): festivals (Gion Matsuri in Kyoto, Nebuta in Aomori), plus fireworks (hanabi).  \n",
      "  • Autumn (October–November): brilliant fall foliage at temples and gardens.  \n",
      "  • Winter (December–February): ski resorts in Hokkaido and Nagano, illuminations in major cities.  \n",
      "\n",
      "5. Sample 7–10 Day Itinerary Idea  \n",
      "  Day 1–3: Tokyo – city highlights, day-trip to Nikko or Hakone  \n",
      "  Day 4–5: Kyoto – temples, Gion district, Nara day-trip for deer park  \n",
      "  Day 6: Osaka – Dōtonbori, Umeda Sky Building  \n",
      "  Day 7: Hiroshima & Miyajima (overnight in Hiroshima or return to Osaka)  \n",
      "  (Add days for Hokkaido, Kanazawa or Okinawa if you have extra time.)\n",
      "\n",
      "What sort of experiences excite you most—food adventures, nature, history, pop culture? Let me know your travel window and budget, and I can help refine an itinerary or suggest hidden-gem activities!\n",
      "--------------------------------------------------\n"
     ]
    }
   ],
   "source": [
    "# Create an agent for conversation\n",
    "conversational_agent = ChatCompletionAgent(\n",
    "    service=chat_completion,\n",
    "    name=\"ConversationBot\",\n",
    "    instructions=\"You are a friendly conversational assistant.\"\n",
    ")\n",
    "\n",
    "# Start a conversation without a thread\n",
    "thread: ChatHistoryAgentThread = None\n",
    "response = await conversational_agent.get_response(\n",
    "    messages=\"Hi, I'm planning a trip to Japan. Any recommendations?\", \n",
    "    thread=thread\n",
    ")\n",
    "\n",
    "print(f\"Bot: {response.message.content}\")\n",
    "print(\"-\" * 50)"
   ]
  },
  {
   "cell_type": "code",
   "execution_count": 9,
   "metadata": {},
   "outputs": [
    {
     "name": "stdout",
     "output_type": "stream",
     "text": [
      "Bot: Here’s a tasty rundown of must-try eats—and where to find them—on your trip around Japan. Feel free to mix and match by region or mood!\n",
      "\n",
      "1. Sushi & Sashimi  \n",
      " • Tsukiji/Toyosu (Tokyo) – try an early-morning sushi counter; go for an “omakase” set if you can.  \n",
      " • Conveyor-belt sushi (kaiten-zushi) – cheap and fun; Mid-tier chains like Sushiro or Kura are everywhere.  \n",
      "\n",
      "2. Ramen (by region)  \n",
      " • Tokyo (shoyu ramen) – famous shops like Ichiran, Afuri (yuzu-flavored broth), or local mom-and-pop shops.  \n",
      " • Sapporo (miso ramen) – hearty, topped with corn & butter; check out Ramen Shingen or Sumire.  \n",
      " • Hakata (Fukuoka) tonkotsu – rich pork broth; Ichiran’s original shop or Ippudo.  \n",
      " • Kitakata (Fukushima) – light shoyu broth & thick noodles.  \n",
      "\n",
      "3. Osaka Street Food  \n",
      " • Takoyaki (octopus balls) – head to Dōtonbori or street stalls all over Namba.  \n",
      " • Okonomiyaki – Osaka style (mixed pancake); try Mizuno or Kiji in the Umeda area.  \n",
      "\n",
      "4. Hiroshima-Style Okonomiyaki  \n",
      " • Layered (noodle + cabbage + egg) rather than mixed; find it around Hondori arcade—okonomimura is a multi-stall building.  \n",
      "\n",
      "5. Yakitori & Izakaya Bites  \n",
      " • Omoide Yokocho (Shinjuku) or Memory Lane – tiny yakitori stalls, atmosphere included.  \n",
      " • Shinjuku’s Golden Gai or non-smoking izakayas in Ebisu for small plates: karaage, gyoza, edamame, kushikatsu.  \n",
      "\n",
      "6. Tempura & Tendon  \n",
      " • Casual tendon chains like Tenya for a quick bowl of rice topped with shrimp & veggie tempura.  \n",
      " • High-end tempura bars (e.g. Tsunahachi in Shinjuku) let you sit at the counter and watch the chef.  \n",
      "\n",
      "7. Kaiseki & Ryōtei (Kyoto specialty)  \n",
      " • Multi-course seasonal meals—book ahead at places like Gion Karyo or a ryokan dinner in Higashiyama.  \n",
      "\n",
      "8. Regional Specialties  \n",
      " • Hida beef in Takayama – melt-in-your-mouth steak or sushi.  \n",
      " • Miso katsu in Nagoya – deep-fried pork cutlet with sweet red miso sauce (Yabaton chain).  \n",
      " • Sanuki udon in Kagawa – super-chewy noodles; try a self-serve shop.  \n",
      " • Gyoza in Utsunomiya – crispy pork dumplings.  \n",
      " • Shirasu-don in Shizuoka – fresh baby sardines over rice.  \n",
      " • Okinawa’s goya champuru (bitter melon stir-fry) & rafute (braised pork belly).  \n",
      "\n",
      "9. Market & Snack Stops  \n",
      " • Nishiki Market (Kyoto) – pickled veggies, fresh tofu donuts, matcha sweets.  \n",
      " • Kuromon Market (Osaka) – uni on rice, fresh fruit skewers, grilled crab legs.  \n",
      " • “Depachika” basement food halls (department stores) – perfect for beautifully packed bento, wagashi and premium snacks.  \n",
      " • Convenience stores (7-Eleven, Lawson) – surprisingly good onigiri, karaage, egg sandwiches and unique desserts.  \n",
      "\n",
      "10. Sweet Treats & Drinks  \n",
      " • Wagashi (traditional sweets) with matcha at a tea house in Uji (Kyoto) or Nanzen-ji area.  \n",
      " • Kakigōri (shaved ice) – flavored with matcha, strawberry or condensed milk.  \n",
      " • Japanese soft-serve ice creams: try black sesame, hojicha or sakura.  \n",
      "\n",
      "Dining Tips  \n",
      " • No tipping—service charge is built in.  \n",
      " • Cash is king at tiny stalls.  \n",
      " • For popular ramen and yakitori spots, plan to queue (or go right at opening).  \n",
      " • Download Gurunavi or Tabelog (English options) for localized reviews and “Bib Gourmand” picks.  \n",
      "\n",
      "Let me know which region you’re most excited about or if you want hidden-gem izakayas, Michelin-style sushi counters, or vegan/vegetarian options—and I’ll dive deeper!\n",
      "--------------------------------------------------\n"
     ]
    }
   ],
   "source": [
    "# Continue the conversation using the thread\n",
    "thread = response.thread  # Get the thread from the previous response\n",
    "\n",
    "response = await conversational_agent.get_response(\n",
    "    messages=\"What about food recommendations?\", \n",
    "    thread=thread\n",
    ")\n",
    "\n",
    "print(f\"Bot: {response.message.content}\")\n",
    "print(\"-\" * 50)"
   ]
  },
  {
   "cell_type": "code",
   "execution_count": 10,
   "metadata": {},
   "outputs": [
    {
     "name": "stdout",
     "output_type": "stream",
     "text": [
      "Bot: We’ve been talking about planning your trip to Japan—covering top destinations and itineraries first, then diving into local food must-tries and where to find them.\n",
      "--------------------------------------------------\n"
     ]
    }
   ],
   "source": [
    "# Test context awareness\n",
    "response = await conversational_agent.get_response(\n",
    "    messages=\"What was the topic of our conversation?\", \n",
    "    thread=thread\n",
    ")\n",
    "\n",
    "print(f\"Bot: {response.message.content}\")\n",
    "print(\"-\" * 50)"
   ]
  },
  {
   "cell_type": "markdown",
   "metadata": {},
   "source": [
    "## 7. Exploring Thread Messages\n",
    "\n",
    "You can inspect the conversation history stored in a thread."
   ]
  },
  {
   "cell_type": "code",
   "execution_count": 11,
   "metadata": {},
   "outputs": [
    {
     "name": "stdout",
     "output_type": "stream",
     "text": [
      "🔍 Conversation History:\n",
      "==================================================\n",
      "[USER]: Hi, I'm planning a trip to Japan. Any recommendations?\n",
      "------------------------------\n",
      "[ASSISTANT (ConversationBot)]: Here are some ideas to get you started—feel free to let me know more about your travel dates, trip length or interests, and I can tailor these suggestions further:\n",
      "\n",
      "1. Major Destinations  \n",
      "  • Tokyo: ultra-modern city meets traditional temples (Senso-ji in Asakusa, Meiji Shrine in Harajuku), plus neighborhoods like Shibuya, Shinjuku, Akihabara and Odaiba.  \n",
      "  • Kyoto: over 1,000 temples and shrines, iconic Fushimi Inari Taisha gates, traditional tea houses in Gion and the Golden Pavilion (Kinkaku-ji).  \n",
      "  • Osaka: known for its street food (takoyaki, okonomiyaki), Dōtonbori nightlife and Osaka Castle.  \n",
      "\n",
      "2. Off-the-Beaten-Path & Regional Gems  \n",
      "  • Hiroshima & Miyajima: Peace Memorial Park and the “floating” Itsukushima Shrine.  \n",
      "  • Kanazawa: beautifully preserved samurai and geisha districts, Kenrokuen Garden.  \n",
      "  • Takayama & Shirakawa-go: traditional mountain villages and thatched-roof farmhouses.  \n",
      "  • Hokkaido (if you travel in summer, it’s cooler; winter offers world-class skiing and the Sapporo Snow Festival).  \n",
      "  • Okinawa (for beaches, subtropical islands and unique Ryukyu culture).  \n",
      "\n",
      "3. Practical Tips  \n",
      "  • Japan Rail Pass: if you plan to hit multiple regions using Shinkansen (bullet trains), a 7- or 14-day pass often pays off.  \n",
      "  • Accommodations: mix ryokans (traditional inns with tatami rooms and onsen baths) with business hotels or guesthouses to stretch your budget.  \n",
      "  • Cash vs. Card: many smaller shops and rural areas prefer cash—carry enough yen.  \n",
      "  • Language: basic phrases (“arigatō,” “sumimasen,” “onegaishimasu”) go a long way; most signs in major cities have English.  \n",
      "  • Etiquette: remove shoes when entering homes and some ryokans, respect quiet in trains, follow proper onsen etiquette (wash before entering).  \n",
      "\n",
      "4. Seasonal Highlights  \n",
      "  • Spring (late March–April): cherry blossoms (hanami) in parks like Ueno (Tokyo) and Maruyama (Kyoto).  \n",
      "  • Summer (June–August): festivals (Gion Matsuri in Kyoto, Nebuta in Aomori), plus fireworks (hanabi).  \n",
      "  • Autumn (October–November): brilliant fall foliage at temples and gardens.  \n",
      "  • Winter (December–February): ski resorts in Hokkaido and Nagano, illuminations in major cities.  \n",
      "\n",
      "5. Sample 7–10 Day Itinerary Idea  \n",
      "  Day 1–3: Tokyo – city highlights, day-trip to Nikko or Hakone  \n",
      "  Day 4–5: Kyoto – temples, Gion district, Nara day-trip for deer park  \n",
      "  Day 6: Osaka – Dōtonbori, Umeda Sky Building  \n",
      "  Day 7: Hiroshima & Miyajima (overnight in Hiroshima or return to Osaka)  \n",
      "  (Add days for Hokkaido, Kanazawa or Okinawa if you have extra time.)\n",
      "\n",
      "What sort of experiences excite you most—food adventures, nature, history, pop culture? Let me know your travel window and budget, and I can help refine an itinerary or suggest hidden-gem activities!\n",
      "------------------------------\n",
      "[USER]: What about food recommendations?\n",
      "------------------------------\n",
      "[ASSISTANT (ConversationBot)]: Here’s a tasty rundown of must-try eats—and where to find them—on your trip around Japan. Feel free to mix and match by region or mood!\n",
      "\n",
      "1. Sushi & Sashimi  \n",
      " • Tsukiji/Toyosu (Tokyo) – try an early-morning sushi counter; go for an “omakase” set if you can.  \n",
      " • Conveyor-belt sushi (kaiten-zushi) – cheap and fun; Mid-tier chains like Sushiro or Kura are everywhere.  \n",
      "\n",
      "2. Ramen (by region)  \n",
      " • Tokyo (shoyu ramen) – famous shops like Ichiran, Afuri (yuzu-flavored broth), or local mom-and-pop shops.  \n",
      " • Sapporo (miso ramen) – hearty, topped with corn & butter; check out Ramen Shingen or Sumire.  \n",
      " • Hakata (Fukuoka) tonkotsu – rich pork broth; Ichiran’s original shop or Ippudo.  \n",
      " • Kitakata (Fukushima) – light shoyu broth & thick noodles.  \n",
      "\n",
      "3. Osaka Street Food  \n",
      " • Takoyaki (octopus balls) – head to Dōtonbori or street stalls all over Namba.  \n",
      " • Okonomiyaki – Osaka style (mixed pancake); try Mizuno or Kiji in the Umeda area.  \n",
      "\n",
      "4. Hiroshima-Style Okonomiyaki  \n",
      " • Layered (noodle + cabbage + egg) rather than mixed; find it around Hondori arcade—okonomimura is a multi-stall building.  \n",
      "\n",
      "5. Yakitori & Izakaya Bites  \n",
      " • Omoide Yokocho (Shinjuku) or Memory Lane – tiny yakitori stalls, atmosphere included.  \n",
      " • Shinjuku’s Golden Gai or non-smoking izakayas in Ebisu for small plates: karaage, gyoza, edamame, kushikatsu.  \n",
      "\n",
      "6. Tempura & Tendon  \n",
      " • Casual tendon chains like Tenya for a quick bowl of rice topped with shrimp & veggie tempura.  \n",
      " • High-end tempura bars (e.g. Tsunahachi in Shinjuku) let you sit at the counter and watch the chef.  \n",
      "\n",
      "7. Kaiseki & Ryōtei (Kyoto specialty)  \n",
      " • Multi-course seasonal meals—book ahead at places like Gion Karyo or a ryokan dinner in Higashiyama.  \n",
      "\n",
      "8. Regional Specialties  \n",
      " • Hida beef in Takayama – melt-in-your-mouth steak or sushi.  \n",
      " • Miso katsu in Nagoya – deep-fried pork cutlet with sweet red miso sauce (Yabaton chain).  \n",
      " • Sanuki udon in Kagawa – super-chewy noodles; try a self-serve shop.  \n",
      " • Gyoza in Utsunomiya – crispy pork dumplings.  \n",
      " • Shirasu-don in Shizuoka – fresh baby sardines over rice.  \n",
      " • Okinawa’s goya champuru (bitter melon stir-fry) & rafute (braised pork belly).  \n",
      "\n",
      "9. Market & Snack Stops  \n",
      " • Nishiki Market (Kyoto) – pickled veggies, fresh tofu donuts, matcha sweets.  \n",
      " • Kuromon Market (Osaka) – uni on rice, fresh fruit skewers, grilled crab legs.  \n",
      " • “Depachika” basement food halls (department stores) – perfect for beautifully packed bento, wagashi and premium snacks.  \n",
      " • Convenience stores (7-Eleven, Lawson) – surprisingly good onigiri, karaage, egg sandwiches and unique desserts.  \n",
      "\n",
      "10. Sweet Treats & Drinks  \n",
      " • Wagashi (traditional sweets) with matcha at a tea house in Uji (Kyoto) or Nanzen-ji area.  \n",
      " • Kakigōri (shaved ice) – flavored with matcha, strawberry or condensed milk.  \n",
      " • Japanese soft-serve ice creams: try black sesame, hojicha or sakura.  \n",
      "\n",
      "Dining Tips  \n",
      " • No tipping—service charge is built in.  \n",
      " • Cash is king at tiny stalls.  \n",
      " • For popular ramen and yakitori spots, plan to queue (or go right at opening).  \n",
      " • Download Gurunavi or Tabelog (English options) for localized reviews and “Bib Gourmand” picks.  \n",
      "\n",
      "Let me know which region you’re most excited about or if you want hidden-gem izakayas, Michelin-style sushi counters, or vegan/vegetarian options—and I’ll dive deeper!\n",
      "------------------------------\n",
      "[USER]: What was the topic of our conversation?\n",
      "------------------------------\n",
      "[ASSISTANT (ConversationBot)]: We’ve been talking about planning your trip to Japan—covering top destinations and itineraries first, then diving into local food must-tries and where to find them.\n",
      "------------------------------\n"
     ]
    }
   ],
   "source": [
    "# View all messages in the thread\n",
    "print(\"🔍 Conversation History:\")\n",
    "print(\"=\" * 50)\n",
    "\n",
    "async for message in thread.get_messages():\n",
    "    role = message.role.value.upper()\n",
    "    name = f\" ({message.name})\" if message.name else \"\"\n",
    "    print(f\"[{role}{name}]: {message.content}\")\n",
    "    print(\"-\" * 30)"
   ]
  },
  {
   "cell_type": "markdown",
   "metadata": {},
   "source": [
    "## 8. Creating Your First Plugin\n",
    "\n",
    "Plugins extend agents with custom functionality. Let's create a simple menu plugin for a restaurant."
   ]
  },
  {
   "cell_type": "code",
   "execution_count": 12,
   "metadata": {},
   "outputs": [
    {
     "name": "stdout",
     "output_type": "stream",
     "text": [
      "✅ Restaurant Menu Plugin created!\n"
     ]
    }
   ],
   "source": [
    "class RestaurantMenuPlugin:\n",
    "    \"\"\"A plugin that provides restaurant menu information.\"\"\"\n",
    "\n",
    "    @kernel_function(description=\"Get today's special menu items.\")\n",
    "    def get_specials(self) -> Annotated[str, \"Returns today's special menu items.\"]:\n",
    "        return \"\"\"\n",
    "        🍲 Special Soup: Clam Chowder\n",
    "        🥗 Special Salad: Caesar Salad with Grilled Chicken\n",
    "        🍹 Special Drink: Fresh Mint Lemonade\n",
    "        🍰 Special Dessert: Chocolate Lava Cake\n",
    "        \"\"\"\n",
    "\n",
    "    @kernel_function(description=\"Get the price of a specific menu item.\")\n",
    "    def get_item_price(\n",
    "        self, menu_item: Annotated[str, \"The name of the menu item.\"]\n",
    "    ) -> Annotated[str, \"Returns the price of the menu item.\"]:\n",
    "        # In a real application, this would query a database\n",
    "        prices = {\n",
    "            \"clam chowder\": \"$12.99\",\n",
    "            \"caesar salad\": \"$14.99\",\n",
    "            \"mint lemonade\": \"$4.99\",\n",
    "            \"chocolate lava cake\": \"$8.99\"\n",
    "        }\n",
    "        \n",
    "        item_key = menu_item.lower()\n",
    "        return prices.get(item_key, \"$9.99\")  # Default price\n",
    "\n",
    "    @kernel_function(description=\"Check if a menu item is available.\")\n",
    "    def check_availability(\n",
    "        self, menu_item: Annotated[str, \"The name of the menu item.\"]\n",
    "    ) -> Annotated[str, \"Returns availability status.\"]:\n",
    "        # Simulate checking availability\n",
    "        available_items = [\"clam chowder\", \"caesar salad\", \"mint lemonade\", \"chocolate lava cake\"]\n",
    "        item_key = menu_item.lower()\n",
    "        \n",
    "        if item_key in available_items:\n",
    "            return f\"✅ {menu_item} is available!\"\n",
    "        else:\n",
    "            return f\"❌ {menu_item} is not available today.\"\n",
    "\n",
    "print(\"✅ Restaurant Menu Plugin created!\")"
   ]
  },
  {
   "cell_type": "markdown",
   "metadata": {},
   "source": [
    "## 9. Using Plugins with Agents\n",
    "\n",
    "Now let's create an agent that uses our restaurant menu plugin."
   ]
  },
  {
   "cell_type": "code",
   "execution_count": 13,
   "metadata": {},
   "outputs": [
    {
     "name": "stdout",
     "output_type": "stream",
     "text": [
      "✅ Restaurant agent with menu plugin created!\n"
     ]
    }
   ],
   "source": [
    "# Create an agent with the menu plugin\n",
    "restaurant_agent = ChatCompletionAgent(\n",
    "    service=chat_completion,\n",
    "    name=\"RestaurantHost\",\n",
    "    instructions=\"You are a friendly restaurant host. Help customers with menu questions, prices, and availability. Be welcoming and helpful!\",\n",
    "    plugins=[RestaurantMenuPlugin()]\n",
    ")\n",
    "\n",
    "print(\"✅ Restaurant agent with menu plugin created!\")"
   ]
  },
  {
   "cell_type": "markdown",
   "metadata": {},
   "source": [
    "## 10. Testing the Plugin-Enabled Agent\n",
    "\n",
    "Let's have a conversation with our restaurant agent to see the plugin in action."
   ]
  },
  {
   "cell_type": "code",
   "execution_count": 14,
   "metadata": {},
   "outputs": [
    {
     "name": "stdout",
     "output_type": "stream",
     "text": [
      "👤 Customer: Hello! I'd like to know about today's specials.\n",
      "🍽️ Host: Hello there! Here are today’s specials:\n",
      "\n",
      "- Special Soup: Clam Chowder  \n",
      "- Special Salad: Caesar Salad with Grilled Chicken  \n",
      "- Special Drink: Fresh Mint Lemonade  \n",
      "- Special Dessert: Chocolate Lava Cake  \n",
      "\n",
      "Feel free to ask about any of these or anything else on the menu. Enjoy!\n",
      "------------------------------------------------------------\n",
      "👤 Customer: How much does the clam chowder cost?\n",
      "🍽️ Host: The Clam Chowder costs $12.99. Would you like to order it, or is there anything else I can help you with?\n",
      "------------------------------------------------------------\n",
      "👤 Customer: Is the chocolate lava cake available?\n",
      "🍽️ Host: Good news! The Chocolate Lava Cake is available. Would you like to add it to your order or have any other questions?\n",
      "------------------------------------------------------------\n",
      "👤 Customer: What about pizza? Is that available?\n",
      "🍽️ Host: I’m sorry, but pizza isn’t available today. Can I interest you in one of our specials—like the Clam Chowder or Chocolate Lava Cake—or help you find something else on the menu?\n",
      "------------------------------------------------------------\n"
     ]
    }
   ],
   "source": [
    "# Test the agent with plugin functionality\n",
    "customer_requests = [\n",
    "    \"Hello! I'd like to know about today's specials.\",\n",
    "    \"How much does the clam chowder cost?\",\n",
    "    \"Is the chocolate lava cake available?\",\n",
    "    \"What about pizza? Is that available?\"\n",
    "]\n",
    "\n",
    "thread = None\n",
    "\n",
    "for request in customer_requests:\n",
    "    print(f\"👤 Customer: {request}\")\n",
    "    \n",
    "    response = await restaurant_agent.get_response(messages=request, thread=thread)\n",
    "    thread = response.thread\n",
    "    \n",
    "    print(f\"🍽️ Host: {response.message.content}\")\n",
    "    print(\"-\" * 60)"
   ]
  },
  {
   "cell_type": "markdown",
   "metadata": {},
   "source": [
    "## 11. Understanding Function Calls\n",
    "\n",
    "Let's examine what happens behind the scenes when the agent uses our plugin functions."
   ]
  },
  {
   "cell_type": "code",
   "execution_count": null,
   "metadata": {},
   "outputs": [
    {
     "name": "stdout",
     "output_type": "stream",
     "text": [
      "🔍 Detailed Conversation History (including function calls):\n",
      "======================================================================\n",
      "👤 USER: Hello! I'd like to know about today's specials.\n",
      "----------------------------------------\n",
      "🤖 AGENT: [Making function call]\n",
      "   📞 Calling: RestaurantMenuPlugin-get_specials({})\n",
      "----------------------------------------\n",
      "🔧 FUNCTION RESULT: \n",
      "        🍲 Special Soup: Clam Chowder\n",
      "        🥗 Special Salad: Caesar Salad with Grilled Chicken\n",
      "        🍹 Special Drink: Fresh Mint Lemonade\n",
      "        🍰 Special Dessert: Chocolate Lava Cake\n",
      "        \n",
      "----------------------------------------\n",
      "🤖 AGENT: Hello there! Here are today’s specials:\n",
      "\n",
      "- Special Soup: Clam Chowder  \n",
      "- Special Salad: Caesar Salad with Grilled Chicken  \n",
      "- Special Drink: Fresh Mint Lemonade  \n",
      "- Special Dessert: Chocolate Lava Cake  \n",
      "\n",
      "Feel free to ask about any of these or anything else on the menu. Enjoy!\n",
      "----------------------------------------\n",
      "👤 USER: How much does the clam chowder cost?\n",
      "----------------------------------------\n",
      "🤖 AGENT: [Making function call]\n",
      "   📞 Calling: RestaurantMenuPlugin-get_item_price({\"menu_item\":\"Clam Chowder\"})\n",
      "----------------------------------------\n",
      "🔧 FUNCTION RESULT: $12.99\n",
      "----------------------------------------\n",
      "🤖 AGENT: The Clam Chowder costs $12.99. Would you like to order it, or is there anything else I can help you with?\n",
      "----------------------------------------\n",
      "👤 USER: Is the chocolate lava cake available?\n",
      "----------------------------------------\n",
      "🤖 AGENT: [Making function call]\n",
      "   📞 Calling: RestaurantMenuPlugin-check_availability({\"menu_item\":\"Chocolate Lava Cake\"})\n",
      "----------------------------------------\n",
      "🔧 FUNCTION RESULT: ✅ Chocolate Lava Cake is available!\n",
      "----------------------------------------\n",
      "🤖 AGENT: Good news! The Chocolate Lava Cake is available. Would you like to add it to your order or have any other questions?\n",
      "----------------------------------------\n",
      "👤 USER: What about pizza? Is that available?\n",
      "----------------------------------------\n",
      "🤖 AGENT: [Making function call]\n",
      "   📞 Calling: RestaurantMenuPlugin-check_availability({\"menu_item\":\"Pizza\"})\n",
      "----------------------------------------\n",
      "🔧 FUNCTION RESULT: ❌ Pizza is not available today.\n",
      "----------------------------------------\n",
      "🤖 AGENT: I’m sorry, but pizza isn’t available today. Can I interest you in one of our specials—like the Clam Chowder or Chocolate Lava Cake—or help you find something else on the menu?\n",
      "----------------------------------------\n"
     ]
    }
   ],
   "source": [
    "# Let's look at the conversation history to see function calls\n",
    "print(\"🔍 Detailed Conversation History (including function calls):\")\n",
    "print(\"=\" * 70)\n",
    "\n",
    "async for message in thread.get_messages():\n",
    "    message_dict = message.to_dict()\n",
    "    \n",
    "    if message_dict.get('role') == 'user':\n",
    "        print(f\"👤 USER: {message_dict['content']}\")\n",
    "    elif message_dict.get('role') == 'assistant':\n",
    "        if 'tool_calls' in message_dict:\n",
    "            print(f\"🤖 AGENT: [Making function call]\")\n",
    "            for tool_call in message_dict['tool_calls']:\n",
    "                function_name = tool_call['function']['name']\n",
    "                arguments = tool_call['function']['arguments']\n",
    "                print(f\"   📞 Calling: {function_name}({arguments})\")\n",
    "        else:\n",
    "            print(f\"🤖 AGENT: {message_dict['content']}\")\n",
    "    elif message_dict.get('role') == 'tool':\n",
    "        print(f\"🔧 FUNCTION RESULT: {message_dict['content']}\")\n",
    "    \n",
    "    print(\"-\" * 40)"
   ]
  },
  {
   "cell_type": "markdown",
   "metadata": {},
   "source": [
    "## 12. Cleanup\n",
    "\n",
    "It's good practice to clean up threads when you're done with them."
   ]
  },
  {
   "cell_type": "code",
   "execution_count": 16,
   "metadata": {},
   "outputs": [
    {
     "name": "stdout",
     "output_type": "stream",
     "text": [
      "✅ Thread cleaned up successfully!\n"
     ]
    }
   ],
   "source": [
    "# Clean up the thread\n",
    "if thread:\n",
    "    await thread.delete()\n",
    "    print(\"✅ Thread cleaned up successfully!\")"
   ]
  },
  {
   "cell_type": "markdown",
   "metadata": {},
   "source": [
    "## 🎉 Congratulations!\n",
    "\n",
    "You've successfully completed the Semantic Kernel Basics tutorial! Here's what you've learned:\n",
    "\n",
    "### ✅ Key Concepts Covered:\n",
    "1. **Environment Setup** - Configuring Semantic Kernel with Azure OpenAI or OpenAI\n",
    "2. **Chat Completion** - Basic AI interactions\n",
    "3. **System Messages** - Controlling AI behavior and personality\n",
    "4. **Multimodal Input** - Working with text and images\n",
    "5. **Agents** - Creating AI assistants with specific instructions\n",
    "6. **Conversation Threads** - Maintaining context across interactions\n",
    "7. **Plugins** - Extending agents with custom functionality\n",
    "8. **Function Calling** - How agents use tools to solve problems\n",
    "\n",
    "### 🚀 Next Steps:\n",
    "Ready to dive deeper? Check out the **Advanced Semantic Kernel** notebook to learn about:\n",
    "- Multi-agent orchestration\n",
    "- Streaming responses\n",
    "- Complex workflows\n",
    "- Human-in-the-loop systems\n",
    "\n",
    "### 📚 Additional Resources:\n",
    "- [Semantic Kernel Documentation](https://learn.microsoft.com/en-us/semantic-kernel/)\n",
    "- [Python SDK Reference](https://learn.microsoft.com/en-us/semantic-kernel/get-started/quick-start-guide)\n",
    "- [Agent Framework Guide](https://learn.microsoft.com/en-us/semantic-kernel/frameworks/agent/)\n",
    "- [Plugin Development](https://learn.microsoft.com/en-us/semantic-kernel/concepts/plugins/)\n",
    "\n",
    "Happy coding! 🚀"
   ]
  }
 ],
 "metadata": {
  "kernelspec": {
   "display_name": ".venv",
   "language": "python",
   "name": "python3"
  },
  "language_info": {
   "codemirror_mode": {
    "name": "ipython",
    "version": 3
   },
   "file_extension": ".py",
   "mimetype": "text/x-python",
   "name": "python",
   "nbconvert_exporter": "python",
   "pygments_lexer": "ipython3",
   "version": "3.12.3"
  }
 },
 "nbformat": 4,
 "nbformat_minor": 4
}
