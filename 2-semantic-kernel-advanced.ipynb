{
 "cells": [
  {
   "cell_type": "markdown",
   "metadata": {},
   "source": [
    "# Advanced Semantic Kernel - Advanced Agent Features\n",
    "\n",
    "Welcome to the advanced agent features tutorial! This notebook builds on the basics to explore sophisticated individual agent capabilities and enhancements.\n",
    "\n",
    "## Prerequisites\n",
    "\n",
    "Before starting this tutorial, make sure you've completed the **Semantic Kernel Basics** notebook. You should be familiar with:\n",
    "- Basic agent creation and configuration\n",
    "- Chat completion services\n",
    "- Plugins and function calling\n",
    "- Conversation threads\n",
    "\n",
    "## What You'll Learn\n",
    "\n",
    "- **Streaming Responses**: Real-time response generation with `invoke_stream()`\n",
    "- **Intermediate Steps**: Understanding agent processing with `invoke()`\n",
    "- **Structured Outputs**: Enforcing consistent response formats with Pydantic\n",
    "- **Reasoning Models**: Enhanced reasoning capabilities with specialized models\n",
    "\n",
    "## Resources\n",
    "- [Agent API Reference](https://learn.microsoft.com/en-us/semantic-kernel/frameworks/agent/agent-api?pivots=programming-language-python)\n",
    "- [Reasoning Models](https://learn.microsoft.com/en-us/azure/ai-foundry/openai/how-to/reasoning?tabs=python-secure%2Cpy)\n",
    "\n",
    "## Next Steps\n",
    "After completing this tutorial, continue with the **Semantic Kernel Multi-Agent Orchestration** notebook to learn about agent collaboration patterns.\n",
    "\n",
    "Let's explore these advanced agent features!"
   ]
  },
  {
   "cell_type": "markdown",
   "metadata": {},
   "source": [
    "## Setup and Imports\n",
    "\n",
    "Let's start by importing the necessary modules for advanced agent features."
   ]
  },
  {
   "cell_type": "code",
   "execution_count": 1,
   "metadata": {},
   "outputs": [
    {
     "name": "stdout",
     "output_type": "stream",
     "text": [
      "✅ Advanced agent imports loaded successfully!\n"
     ]
    }
   ],
   "source": [
    "import asyncio\n",
    "import json\n",
    "import os\n",
    "from dotenv import load_dotenv\n",
    "from pydantic import BaseModel\n",
    "\n",
    "try:\n",
    "    from typing import Annotated\n",
    "except ImportError:\n",
    "    from typing_extensions import Annotated\n",
    "\n",
    "# Core Semantic Kernel imports\n",
    "from semantic_kernel import Kernel\n",
    "from semantic_kernel.agents import Agent, ChatCompletionAgent, ChatHistoryAgentThread\n",
    "from semantic_kernel.connectors.ai.open_ai import AzureChatCompletion, OpenAIChatCompletion\n",
    "from semantic_kernel.connectors.ai.open_ai import OpenAIChatPromptExecutionSettings, AzureChatPromptExecutionSettings\n",
    "from semantic_kernel.functions import kernel_function, KernelArguments\n",
    "from semantic_kernel.contents import ChatMessageContent, TextContent, StreamingChatMessageContent\n",
    "from semantic_kernel.contents.utils.author_role import AuthorRole\n",
    "from semantic_kernel.contents.chat_history import ChatHistory\n",
    "from semantic_kernel.contents import FunctionCallContent, FunctionResultContent\n",
    "\n",
    "# Load environment variables\n",
    "load_dotenv()\n",
    "\n",
    "print(\"✅ Advanced agent imports loaded successfully!\")"
   ]
  },
  {
   "cell_type": "code",
   "execution_count": 2,
   "metadata": {},
   "outputs": [
    {
     "name": "stdout",
     "output_type": "stream",
     "text": [
      "✅ Chat completion services configured!\n"
     ]
    }
   ],
   "source": [
    "# Configure the main chat completion service\n",
    "chat_completion = AzureChatCompletion(\n",
    "    api_key=os.getenv(\"AZURE_OPENAI_API_KEY\"),\n",
    "    endpoint=os.getenv(\"AZURE_OPENAI_ENDPOINT\"),\n",
    "    deployment_name=os.getenv(\"AZURE_OPENAI_DEPLOYMENT_NAME\"),\n",
    ")\n",
    "\n",
    "print(\"✅ Chat completion services configured!\")"
   ]
  },
  {
   "cell_type": "markdown",
   "metadata": {},
   "source": [
    "## 1. Advanced Agent Features\n",
    "\n",
    "Let's explore advanced agent capabilities including streaming responses and intermediate step handling."
   ]
  },
  {
   "cell_type": "markdown",
   "metadata": {},
   "source": [
    "### 1.1 Streaming Responses\n",
    "\n",
    "Streaming allows you to see responses as they're generated, providing a better user experience for long responses."
   ]
  },
  {
   "cell_type": "code",
   "execution_count": 3,
   "metadata": {},
   "outputs": [],
   "source": [
    "# Create a simple agent for streaming demonstration\n",
    "streaming_agent = ChatCompletionAgent(\n",
    "    service=chat_completion,\n",
    "    name=\"StreamingExpert\",\n",
    "    instructions=\"You are an expert who provides detailed explanations. Give comprehensive responses about topics.\",\n",
    ")"
   ]
  },
  {
   "cell_type": "code",
   "execution_count": 4,
   "metadata": {},
   "outputs": [
    {
     "name": "stdout",
     "output_type": "stream",
     "text": [
      "📝 Regular Response:\n",
      "========================================\n",
      "Renewable energy offers a wide array of benefits—environmental, economic, social, and health-related. Here’s a comprehensive overview:\n",
      "\n",
      "**1. Environmental Benefits**\n",
      "\n",
      "- **Reduced Greenhouse Gas Emissions:** Renewable sources like solar, wind, hydro, geothermal, and biomass generate minimal or zero direct greenhouse gas emissions compared to fossil fuels, which helps combat global warming and climate change.\n",
      "- **Lower Air and Water Pollution:** Renewable energy production typically emits little to no air pollutants (sulfur dioxide, nitrogen oxides) and substantially less particulate matter. Hydroelectric and wind, for instance, do not produce harmful byproducts as coal or gas plants do. This also means less acid rain and smog.\n",
      "- **Decreased Water Consumption:** Solar and wind energy require little to no water for operation, unlike coal or nuclear plants, which consume large amounts for cooling. This conserves freshwater resources.\n",
      "- **Biodiversity Protection:** Shifting away from fossil fuels reduces habitat destruction, oil spills, and landscape disruption caused by mining and drilling.\n",
      "\n",
      "**2. Economic Advantages**\n",
      "\n",
      "- **Job Creation:** The renewable sector creates more jobs per unit of electricity generated than fossil fuels. Construction, installation, operation, maintenance, research—these areas flourish, benefiting local economies.\n",
      "- **Energy Independence:** Renewables are locally sourced, so nations can reduce reliance on imported fuels, enhancing national security and economic stability.\n",
      "- **Stable Energy Prices:** Unlike finite fossil fuels, sunlight, wind, and water are not subject to volatile global markets. This stabilizes energy costs.\n",
      "- **Sustainable Resource Supply:** Renewables are inexhaustible (or replenished on human timescales), protecting against resource depletion.\n",
      "\n",
      "**3. Health Benefits**\n",
      "\n",
      "- **Improved Public Health:** By reducing air and water pollution, renewables lower asthma, respiratory illnesses, cardiovascular diseases, and cancer rates caused by fossil fuel emissions.\n",
      "- **Lower Healthcare Costs:** Cleaner air and water lead to decreased healthcare spending associated with pollution-related diseases.\n",
      "\n",
      "**4. Social and Community Development**\n",
      "\n",
      "- **Distributed Energy and Resilience:** Solar panels, wind turbines, and microgrids can be deployed on homes, businesses, and in remote areas. This local generation bolsters grid resilience, especially during disasters, and reduces transmission losses.\n",
      "- **Energy Access and Equity:** Off-grid renewables provide electricity to remote or disadvantaged regions, improving education, health, and economic opportunities.\n",
      "\n",
      "**5. Innovation and Leadership**\n",
      "\n",
      "- **Technological Development:** Investment in renewable energy fosters innovation in storage, efficiency, smart grids, and more.\n",
      "- **Global Leadership:** Early adopters of clean energy gain competitive advantages, exporting technologies, promoting green industries, and leading in global climate policy.\n",
      "\n",
      "**6. Climate Change Mitigation**\n",
      "\n",
      "- **Meeting Climate Goals:** Shifting to renewables is critical for reaching emissions targets set by international agreements like the Paris Accord.\n",
      "\n",
      "**Summary Table**\n",
      "\n",
      "| Benefit Type      | Key Advantages                                          |\n",
      "|-------------------|--------------------------------------------------------|\n",
      "| Environmental     | Less pollution, GHG reduction, water conservation      |\n",
      "| Economic          | Jobs, stable prices, independence, sustainability      |\n",
      "| Health            | Cleaner air/water, fewer diseases, lower costs         |\n",
      "| Social            | Access, resilience, development                        |\n",
      "| Innovation        | Drives technological progress, global leadership       |\n",
      "| Climate           | Essential for emissions reduction and climate action   |\n",
      "\n",
      "In summary, renewable energy is fundamental to a sustainable, healthy, and prosperous future. Its integration not only addresses urgent environmental challenges but also propels innovation, economic growth, and societal well-being.\n",
      "\n",
      "========================================\n"
     ]
    }
   ],
   "source": [
    "# Example 1: Regular (non-streaming) response\n",
    "print(\"📝 Regular Response:\")\n",
    "print(\"=\" * 40)\n",
    "response = await streaming_agent.get_response(\n",
    "    messages=\"Explain the benefits of renewable energy in detail.\"\n",
    ")\n",
    "print(response.message.content)\n",
    "\n",
    "print(\"\\n\" + \"=\" * 40)"
   ]
  },
  {
   "cell_type": "code",
   "execution_count": 5,
   "metadata": {},
   "outputs": [
    {
     "name": "stdout",
     "output_type": "stream",
     "text": [
      "🌊 Streaming Response:\n",
      "========================================\n",
      "Implementing AI in healthcare offers transformative potential but comes with significant challenges. These challenges span technical, ethical, regulatory, organizational, and social dimensions:\n",
      "\n",
      "**1. Data Quality and Availability**  \n",
      "- *Fragmented Data*: Healthcare data often resides in disparate systems that lack interoperability. Electronic health records (EHRs), lab results, imaging, and physician notes are seldom standardized, hindering data aggregation.\n",
      "- *Data Quality*: Medical data is prone to errors, missing values, and inconsistencies. Inaccurate input can lead to unreliable AI outputs.\n",
      "- *Limited Labeled Data*: High-quality labeled data, especially for complex diagnostics, requires expert annotation, which is labor-intensive and costly.\n",
      "\n",
      "**2. Privacy and Security Concerns**  \n",
      "- *Sensitive Information*: Health data is highly sensitive, and improper handling can result in privacy breaches.\n",
      "- *Compliance*: AI systems must comply with regulations (e.g., HIPAA in the US, GDPR in the EU) that set strict protocols for data access, storage, and sharing.\n",
      "- *Cybersecurity*: AI introduces new attack vectors; adversarial attacks or data breaches can have severe implications for patients.\n",
      "\n",
      "**3. Bias and Fairness**  \n",
      "- *Representation*: If training data reflects existing biases (e.g., underrepresentation of certain demographic groups), AI may perpetuate or exacerbate healthcare disparities.\n",
      "- *Algorithmic Transparency*: Many AI models, especially deep learning, are \"black boxes\"; understanding their decision-making is challenging, making bias detection difficult.\n",
      "\n",
      "**4. Integration with Clinical Workflow**  \n",
      "- *Usability*: Clinicians need AI tools that fit seamlessly into existing workflows. Poorly integrated systems can disrupt care delivery and increase workload.\n",
      "- *Trust and Adoption*: Medical professionals may be skeptical of AI recommendations, especially if the rationale is unclear or if the system suggests unfamiliar courses of action.\n",
      "\n",
      "**5. Regulatory and Legal Challenges**  \n",
      "- *Approval Processes*: AI-based systems must undergo rigorous validation and obtain regulatory approvals, processes that are evolving and may lag behind technological advancements.\n",
      "- *Liability*: Determining responsibility for errors—whether it rests with AI developers, healthcare providers, or institutions—remains a complex legal issue.\n",
      "\n",
      "**6. Clinical Validation**  \n",
      "- *Generalizability*: Models trained in one setting or population might not perform well in others due to variations in equipment, protocols, or patient demographics.\n",
      "- *Evaluation*: Continuous, real-world evaluation is needed to ensure ongoing safety and effectiveness.\n",
      "\n",
      "**7. Cost and Resource Constraints**  \n",
      "- *Infrastructure*: AI solutions often require significant computational power and robust IT infrastructure, which may not be available in all healthcare settings.\n",
      "- *Training*: Healthcare personnel need training to use and interpret AI systems effectively.\n",
      "\n",
      "**8. Ethical Considerations**  \n",
      "- *Informed Consent*: Patients must understand how their data is used for AI development and care decisions.\n",
      "- *Human Oversight*: Ensuring that AI augments rather than replaces human judgment is vital, especially in high-stakes scenarios.\n",
      "\n",
      "**In Summary:**  \n",
      "The successful implementation of AI in healthcare requires addressing data quality and security, minimizing bias, ensuring clinical acceptance, navigating regulatory hurdles, and upholding ethical standards. Continuous collaboration among technologists, clinicians, regulators, and patients is essential to realize AI’s benefits while minimizing risks.\n",
      "\n",
      "✅ Streaming examples completed!\n"
     ]
    }
   ],
   "source": [
    "# Example 2: Streaming response using invoke_stream()\n",
    "print(\"🌊 Streaming Response:\")\n",
    "print(\"=\" * 40)\n",
    "async for streaming_response in streaming_agent.invoke_stream(\n",
    "    messages=\"Explain the challenges of implementing AI in healthcare.\"\n",
    "):\n",
    "    # This shows the response as it's being generated in real-time\n",
    "    print(streaming_response.content, end=\"\", flush=True)\n",
    "\n",
    "print(\"\\n\\n✅ Streaming examples completed!\")"
   ]
  },
  {
   "cell_type": "markdown",
   "metadata": {},
   "source": [
    "### 1.2 Intermediate Steps with invoke()\n",
    "\n",
    "**Understanding Agent Methods:**\n",
    "\n",
    "- **`get_response()`**: Provides the final response only - blocks until the agent is completely done processing\n",
    "- **`invoke()`**: Allows you to see the agent's step-by-step thinking process, including intermediate function calls and results\n",
    "- **`invoke_stream()`**: Provides real-time streaming of the response as it's being generated\n",
    "\n",
    "The `invoke()` method is particularly useful when you want to understand how the agent is working with plugins and function calls."
   ]
  },
  {
   "cell_type": "code",
   "execution_count": 6,
   "metadata": {},
   "outputs": [],
   "source": [
    "class AnalysisPlugin:\n",
    "    \"\"\"Plugin that provides analysis capabilities.\"\"\"\n",
    "    \n",
    "    @kernel_function(description=\"Analyze a topic and provide insights.\")\n",
    "    def analyze_topic(self, topic: Annotated[str, \"The topic to analyze\"]) -> str:\n",
    "        # Simulate analysis processing\n",
    "        return f\"Analysis of '{topic}': This is a complex topic that requires careful consideration of multiple factors including market trends, user needs, and technical feasibility.\"\n",
    "    \n",
    "    @kernel_function(description=\"Generate recommendations based on analysis.\")\n",
    "    def generate_recommendations(self, analysis: Annotated[str, \"The analysis to base recommendations on\"]) -> str:\n",
    "        return \"Recommendations: 1) Conduct further research, 2) Develop a prototype, 3) Test with users, 4) Iterate based on feedback.\"\n",
    "\n",
    "# Create an agent with the analysis plugin for the next section\n",
    "analysis_agent = ChatCompletionAgent(\n",
    "    service=chat_completion,\n",
    "    name=\"AnalysisExpert\",\n",
    "    instructions=\"You are an expert analyst. Use your tools to provide thorough analysis and recommendations.\",\n",
    "    plugins=[AnalysisPlugin()]\n",
    ")"
   ]
  },
  {
   "cell_type": "code",
   "execution_count": 7,
   "metadata": {},
   "outputs": [
    {
     "name": "stdout",
     "output_type": "stream",
     "text": [
      "🎯 Task: Analyze the potential of AI-powered educational tools and provide recommendations.\n",
      "============================================================\n",
      "📞 Function Call: AnalysisPlugin-analyze_topic with arguments: {\"topic\":\"potential of AI-powered educational tools\"}\n",
      "🔧 Function Result: Analysis of 'potential of AI-powered educational tools': This is a complex topic that requires careful consideration of multiple factors including market trends, user needs, and technical feasibility.\n",
      "📞 Function Call: AnalysisPlugin-generate_recommendations with arguments: {\"analysis\":\"AI-powered educational tools have significant potential to transform the learning landscape. They leverage artificial intelligence to provide personalized learning experiences, automate administrative tasks, and enable data-driven insights for both educators and students. Key opportunities include adaptive learning platforms, intelligent tutoring systems, AI-driven content creation, real-time performance tracking, and accessibility improvements for students with special needs. The market for AI in education is rapidly expanding, driven by a growing demand for flexible, effective remote learning solutions, and the need to address issues such as teacher shortages and increasing administrative burdens. The technical feasibility of such tools is high due to advancements in natural language processing, computer vision, and machine learning algorithms. However, challenges such as data privacy, ethical considerations, and the digital divide must be addressed. Effective implementation also requires support and training for educators, as well as collaborative partnerships between technology providers and educational institutions.\"}\n",
      "🔧 Function Result: Recommendations: 1) Conduct further research, 2) Develop a prototype, 3) Test with users, 4) Iterate based on feedback.\n",
      "✅ Final Response from AnalysisExpert: Analysis:\n",
      "AI-powered educational tools have significant potential to transform education by enabling personalized learning, intelligent tutoring, data-driven insights, and enhanced accessibility. Ongoing advances in AI (such as natural language processing and adaptive learning systems) make these tools increasingly feasible and effective. They help automate administrative burdens, support students with diverse needs, and provide real-time performance tracking. The growing demand for remote and flexible learning solutions further accelerates their adoption.\n",
      "\n",
      "However, key challenges remain. These include addressing data privacy concerns, ensuring equitable access (bridging the digital divide), managing ethical considerations, and providing adequate training and support for educators. Successful large-scale implementation will require collaboration between technology developers, educators, and policymakers.\n",
      "\n",
      "Recommendations:\n",
      "1. Conduct Research: Thoroughly investigate the specific needs of your target audience, current gaps in the market, and the best AI technologies for your context.\n",
      "2. Develop Prototypes: Build initial versions of AI-powered tools focused on promising use cases (e.g., adaptive learning, automated grading, or accessible content generation).\n",
      "3. Test with Users: Pilot the tools with real students and educators to gather feedback on usability, effectiveness, and engagement.\n",
      "4. Iterate and Improve: Refine your tools based on user feedback, addressing any emerging issues related to privacy, ethics, or accessibility.\n",
      "5. Foster Collaboration: Partner with educational institutions, teachers, and other stakeholders to ensure your tools meet real needs and gain wider acceptance.\n",
      "6. Offer Training: Provide guidance and resources to help educators integrate AI-powered tools into their teaching effectively.\n",
      "\n",
      "This approach will maximize the positive impact of AI in education while responsibly managing associated risks.\n"
     ]
    }
   ],
   "source": [
    "async def handle_intermediate_steps(message: ChatMessageContent) -> None:\n",
    "    \"\"\"Handle intermediate steps in the agent's processing.\"\"\"\n",
    "    for item in message.items or []:\n",
    "        if isinstance(item, FunctionResultContent):\n",
    "            print(f\"🔧 Function Result: {item.result}\")\n",
    "        elif isinstance(item, FunctionCallContent):\n",
    "            print(f\"📞 Function Call: {item.name} with arguments: {item.arguments}\")\n",
    "        else:\n",
    "            print(f\"💭 {message.name}: {message.content}\")\n",
    "\n",
    "# Test intermediate steps\n",
    "task = \"Analyze the potential of AI-powered educational tools and provide recommendations.\"\n",
    "print(f\"🎯 Task: {task}\")\n",
    "print(\"=\" * 60)\n",
    "\n",
    "async for response in analysis_agent.invoke(\n",
    "    messages=task,\n",
    "    on_intermediate_message=handle_intermediate_steps\n",
    "):\n",
    "    print(f\"✅ Final Response from {response.name}: {response.content}\")"
   ]
  },
  {
   "cell_type": "code",
   "execution_count": 14,
   "metadata": {},
   "outputs": [
    {
     "name": "stdout",
     "output_type": "stream",
     "text": [
      "📞 Function Call: AnalysisPlugin-analyze_topic with arguments: {\"topic\":\"AI-powered educational tools\"}\n",
      "🔧 Function Result: Analysis of 'AI-powered educational tools': This is a complex topic that requires careful consideration of multiple factors including market trends, user needs, and technical feasibility.\n",
      "📞 Function Call: AnalysisPlugin-generate_recommendations with arguments: {\"analysis\":\"AI-powered educational tools have significantly evolved, leveraging machine learning, natural language processing, and adaptive learning technologies. They offer personalized learning paths, instant feedback, and can accommodate diverse student needs at scale. Key benefits include improved engagement, scalable tutoring, data-driven insights for educators, and support for lifelong learning. Challenges include potential bias in algorithms, data privacy concerns, digital divide issues, and the need for teacher training and curriculum integration. Market trends indicate growing adoption in K-12, higher education, and corporate training, driven by the pandemic’s impact on remote learning. For success, solutions must be equitable, secure, adaptable, and evidence-based.\"}\n",
      "🔧 Function Result: Recommendations: 1) Conduct further research, 2) Develop a prototype, 3) Test with users, 4) Iterate based on feedback.\n",
      "Analysis of AI-Powered Educational Tools – Potential\n",
      "\n",
      "AI-powered educational tools are transforming the learning landscape by leveraging advanced technologies such as machine learning, natural language processing, and adaptive learning systems. Their main potential includes:\n",
      "\n",
      "- Personalized Learning: These tools can tailor content and pacing to individual student needs, boosting engagement and retention.\n",
      "- Scalability: They enable large-scale tutoring and support, making quality education more accessible.\n",
      "- Real-Time Feedback: AI can provide quick assessments, helping learners and educators monitor progress and address knowledge gaps instantly.\n",
      "- Data-Driven Insights: Analytics generated by AI tools assist educators in identifying trends, predicting difficulties, and modifying instruction.\n",
      "- Support for Diverse Learners: Adaptive AI systems can accommodate different learning styles, abilities, and languages.\n",
      "\n",
      "However, challenges exist, including algorithmic bias, data privacy concerns, accessibility for underserved communities (digital divide), and the necessity for effective integration with existing curricula and teacher training programs.\n",
      "\n",
      "Market trends show growing adoption in K-12, higher education, and corporate training, especially following the surge in remote learning brought about by the COVID-19 pandemic.\n",
      "\n",
      "Recommendations\n",
      "\n",
      "To harness the full potential of AI-powered educational tools, the following steps are recommended:\n",
      "\n",
      "1. Conduct further research to identify specific needs, target audiences, and evidence-based best practices for AI in education.\n",
      "2. Develop a prototype that incorporates ethical considerations (like privacy and bias reduction) and uses adaptable, secure AI technologies.\n",
      "3. Test the prototype with real users (students and educators) in diverse settings to assess usability, effectiveness, and inclusivity.\n",
      "4. Iterate based on feedback, making improvements to design, functionality, and curriculum integration, ensuring the solution remains equitable and impactful.\n",
      "\n",
      "Would you like in-depth recommendations tailored to a specific educational level (e.g., K-12, higher education, corporate training) or use case?"
     ]
    }
   ],
   "source": [
    "# Straming with intermediate steps\n",
    "async for streaming_response in analysis_agent.invoke_stream(\n",
    "    messages=task,\n",
    "    on_intermediate_message=handle_intermediate_steps\n",
    "):\n",
    "    print(streaming_response.content, end=\"\", flush=True)\n",
    "    "
   ]
  },
  {
   "cell_type": "markdown",
   "metadata": {},
   "source": [
    "### 1.3 Structured Outputs with Pydantic\n",
    "\n",
    "You can enforce structured responses using Pydantic models, ensuring consistent output format."
   ]
  },
  {
   "cell_type": "code",
   "execution_count": 9,
   "metadata": {},
   "outputs": [
    {
     "name": "stdout",
     "output_type": "stream",
     "text": [
      "🧮 Problem: Solve: 3x + 7 = 22\n",
      "\n",
      "📚 Structured Solution:\n",
      "{\n",
      "  \"steps\": [\n",
      "    {\n",
      "      \"explanation\": \"First, subtract 7 from both sides to isolate the term with x.\",\n",
      "      \"output\": \"3x + 7 - 7 = 22 - 7 \\n3x = 15\"\n",
      "    },\n",
      "    {\n",
      "      \"explanation\": \"Now, divide both sides by 3 to solve for x.\",\n",
      "      \"output\": \"3x / 3 = 15 / 3 \\nx = 5\"\n",
      "    }\n",
      "  ],\n",
      "  \"final_answer\": \"x = 5\"\n",
      "}\n"
     ]
    }
   ],
   "source": [
    "# Define structured output models\n",
    "class Step(BaseModel):\n",
    "    explanation: str\n",
    "    output: str\n",
    "\n",
    "class MathSolution(BaseModel):\n",
    "    steps: list[Step]\n",
    "    final_answer: str\n",
    "\n",
    "# Create an agent with structured output\n",
    "settings = AzureChatPromptExecutionSettings()\n",
    "settings.response_format = MathSolution\n",
    "\n",
    "math_agent = ChatCompletionAgent(\n",
    "    service=chat_completion,\n",
    "    name=\"MathTutor\",\n",
    "    instructions=\"You are a math tutor. Solve problems step by step and provide clear explanations.\",\n",
    "    arguments=KernelArguments(settings=settings)\n",
    ")\n",
    "\n",
    "# Test structured output\n",
    "problem = \"Solve: 3x + 7 = 22\"\n",
    "print(f\"🧮 Problem: {problem}\")\n",
    "\n",
    "response = await math_agent.get_response(messages=problem)\n",
    "solution = MathSolution.model_validate(json.loads(response.message.content))\n",
    "\n",
    "print(\"\\n📚 Structured Solution:\")\n",
    "print(solution.model_dump_json(indent=2))"
   ]
  },
  {
   "cell_type": "markdown",
   "metadata": {},
   "source": [
    "### 1.4 Reasoning Models (if available)\n",
    "\n",
    "Some models like O1 provide enhanced reasoning capabilities. Let's test if we have access to reasoning models."
   ]
  },
  {
   "cell_type": "code",
   "execution_count": 10,
   "metadata": {},
   "outputs": [
    {
     "name": "stdout",
     "output_type": "stream",
     "text": [
      "✅ Reasoning model available!\n"
     ]
    }
   ],
   "source": [
    "# Configure reasoning model (if available)\n",
    "reasoning_completion = None\n",
    "if os.getenv(\"AZURE_REASONING_ENDPOINT\"):\n",
    "    reasoning_completion = AzureChatCompletion(\n",
    "        api_key=os.getenv(\"AZURE_REASONING_API_KEY\"),\n",
    "        endpoint=os.getenv(\"AZURE_REASONING_ENDPOINT\"),\n",
    "        deployment_name=os.getenv(\"AZURE_REASONING_DEPLOYMENT_NAME\"),\n",
    "        # Reasoning models from OpenAI use \"developer\" role instead of \"system\"\n",
    "        instruction_role=\"developer\",\n",
    "        service_id=\"reasoning\"\n",
    "    )\n",
    "    \n",
    "    reasoning_settings = AzureChatPromptExecutionSettings(\n",
    "        service_id=\"reasoning\",\n",
    "        reasoning_effort=\"high\" # low | medium | high\n",
    "    )\n",
    "    \n",
    "    reasoning_agent = ChatCompletionAgent(\n",
    "        name=\"ReasoningExpert\",\n",
    "        instructions=\"You are an expert problem solver. Think through complex problems step by step.\",\n",
    "        service=reasoning_completion,\n",
    "    )\n",
    "    \n",
    "    print(\"✅ Reasoning model available!\")\n"
   ]
  },
  {
   "cell_type": "code",
   "execution_count": 11,
   "metadata": {},
   "outputs": [
    {
     "name": "stdout",
     "output_type": "stream",
     "text": [
      "🧠 Testing reasoning model...\n",
      "🧠 Reasoning Response: Here’s one way to solve the system step by step:\n",
      "\n",
      "1. Write down the equations:  \n",
      "   (1) 2x + 3y = 7  \n",
      "   (2) 4x − y = 1  \n",
      "\n",
      "2. Solve equation (2) for y:  \n",
      "   4x − y = 1  \n",
      "   ⇒ −y = 1 − 4x  \n",
      "   ⇒ y = 4x − 1  \n",
      "\n",
      "3. Substitute y = 4x − 1 into equation (1):  \n",
      "   2x + 3(4x − 1) = 7  \n",
      "   2x + 12x − 3 = 7  \n",
      "   14x − 3 = 7  \n",
      "   14x = 10  \n",
      "   x = 10/14 = 5/7  \n",
      "\n",
      "4. Plug x = 5/7 back into y = 4x − 1:  \n",
      "   y = 4·(5/7) − 1  \n",
      "     = 20/7 − 7/7  \n",
      "     = 13/7  \n",
      "\n",
      "Solution:  \n",
      "x = 5/7,  y = 13/7.\n",
      "\n",
      "🤔 User: Is the solution correct? Explain.\n",
      "🧠 Reasoning Response: Yes. You can check by substituting x=5/7 and y=13/7 into both original equations:\n",
      "\n",
      "1. Check 2x + 3y = 7  \n",
      "   Left side = 2·(5/7) + 3·(13/7)  \n",
      "             = 10/7 + 39/7  \n",
      "             = 49/7  \n",
      "             = 7  \n",
      "   Right side = 7  \n",
      "   → matches.\n",
      "\n",
      "2. Check 4x − y = 1  \n",
      "   Left side = 4·(5/7) − (13/7)  \n",
      "             = 20/7 − 13/7  \n",
      "             = 7/7  \n",
      "             = 1  \n",
      "   Right side = 1  \n",
      "   → matches.\n",
      "\n",
      "Since both equations hold, the solution x = 5/7, y = 13/7 is correct.\n"
     ]
    }
   ],
   "source": [
    "if reasoning_completion:\n",
    "    print(\"🧠 Testing reasoning model...\")\n",
    "    \n",
    "    thread = ChatHistoryAgentThread()\n",
    "    response = await reasoning_agent.get_response(\n",
    "        messages=\"Solve: 2x + 3y = 7, 4x - y = 1. Show your reasoning.\", \n",
    "        thread=thread\n",
    "    )\n",
    "    \n",
    "    print(f\"🧠 Reasoning Response: {response.message.content}\")\n",
    "\n",
    "    # Add another user message to the thread\n",
    "    print(\"\\n🤔 User: Is the solution correct? Explain.\")\n",
    "    response = await reasoning_agent.get_response(\n",
    "        messages=\"Is the solution correct? Explain.\", \n",
    "        thread=thread\n",
    "    )\n",
    "    print(f\"🧠 Reasoning Response: {response.message.content}\")\n",
    "else:\n",
    "    print(\"⚠️ Reasoning model not configured. Skipping reasoning example.\")\n",
    "    print(\"💡 To enable reasoning, configure AZURE_REASONING_* environment variables.\")"
   ]
  },
  {
   "cell_type": "code",
   "execution_count": 12,
   "metadata": {},
   "outputs": [
    {
     "name": "stdout",
     "output_type": "stream",
     "text": [
      "📝 Message from AuthorRole.USER: Solve: 2x + 3y = 7, ...\n",
      "📝 Message from AuthorRole.ASSISTANT: Here’s one way to so...\n",
      "    🔍 Usage: {'prompt_tokens': 55, 'prompt_tokens_details': {'audio_tokens': 0, 'cached_tokens': 0}, 'completion_tokens': 714, 'completion_tokens_details': {'accepted_prediction_tokens': 0, 'audio_tokens': 0, 'reasoning_tokens': 448, 'rejected_prediction_tokens': 0}}\n",
      "📝 Message from AuthorRole.USER: Is the solution corr...\n",
      "📝 Message from AuthorRole.ASSISTANT: Yes. You can check b...\n",
      "    🔍 Usage: {'prompt_tokens': 323, 'prompt_tokens_details': {'audio_tokens': 0, 'cached_tokens': 0}, 'completion_tokens': 459, 'completion_tokens_details': {'accepted_prediction_tokens': 0, 'audio_tokens': 0, 'reasoning_tokens': 256, 'rejected_prediction_tokens': 0}}\n"
     ]
    }
   ],
   "source": [
    "# You can see the reasoning tokens used by the agent\n",
    "async for message in thread.get_messages():\n",
    "    print(f\"📝 Message from {message.role}: {message.content[:20]}...\")\n",
    "    if message.metadata.get(\"usage\", None):\n",
    "        print(f\"    🔍 Usage: {message.metadata['usage'].model_dump()}\")"
   ]
  },
  {
   "cell_type": "code",
   "execution_count": 13,
   "metadata": {},
   "outputs": [],
   "source": [
    "await thread.delete()"
   ]
  },
  {
   "cell_type": "markdown",
   "metadata": {},
   "source": [
    "## 🎉 Congratulations!\n",
    "\n",
    "You've successfully completed the Advanced Agent Features tutorial! Here's what you've mastered:\n",
    "\n",
    "### ✅ Advanced Agent Capabilities:\n",
    "1. **Streaming Responses** - Real-time response generation with `invoke_stream()`\n",
    "2. **Intermediate Steps** - Understanding agent processing with `invoke()` and callbacks\n",
    "3. **Structured Outputs** - Enforcing consistent response formats with Pydantic models\n",
    "4. **Reasoning Models** - Enhanced reasoning capabilities with specialized models and token tracking\n",
    "\n",
    "### 🔧 Key Agent Methods:\n",
    "- **`get_response()`** - Blocking call that returns the final response\n",
    "- **`invoke()`** - Non-blocking call that shows intermediate steps and function calls\n",
    "- **`invoke_stream()`** - Real-time streaming of responses as they're generated\n",
    "\n",
    "### 🚀 What's Next?\n",
    "Now that you've mastered individual agent capabilities, you're ready to explore multi-agent systems! Continue with the **Semantic Kernel Multi-Agent Orchestration** notebook to learn about:\n",
    "- Group chat orchestration patterns\n",
    "- Concurrent and sequential processing\n",
    "- Handoff systems\n",
    "- Human-in-the-loop workflows\n",
    "\n",
    "### 📚 Additional Resources:\n",
    "- [Agent API Reference](https://learn.microsoft.com/en-us/semantic-kernel/frameworks/agent/agent-api?pivots=programming-language-python)\n",
    "- [Reasoning Models Documentation](https://learn.microsoft.com/en-us/azure/ai-foundry/openai/how-to/reasoning?tabs=python-secure%2Cpy)\n",
    "- [Plugin Development](https://learn.microsoft.com/en-us/semantic-kernel/concepts/plugins/)\n",
    "\n",
    "Great work! You're now ready to build sophisticated AI agents with advanced capabilities. 🚀"
   ]
  }
 ],
 "metadata": {
  "kernelspec": {
   "display_name": ".venv",
   "language": "python",
   "name": "python3"
  },
  "language_info": {
   "codemirror_mode": {
    "name": "ipython",
    "version": 3
   },
   "file_extension": ".py",
   "mimetype": "text/x-python",
   "name": "python",
   "nbconvert_exporter": "python",
   "pygments_lexer": "ipython3",
   "version": "3.12.3"
  }
 },
 "nbformat": 4,
 "nbformat_minor": 4
}
