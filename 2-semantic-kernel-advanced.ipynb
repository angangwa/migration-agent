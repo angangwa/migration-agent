{
 "cells": [
  {
   "cell_type": "markdown",
   "metadata": {},
   "source": "# Advanced Semantic Kernel - Advanced Agent Features\n\nWelcome to the advanced agent features tutorial! This notebook builds on the basics to explore sophisticated individual agent capabilities and enhancements.\n\n## Prerequisites\n\nBefore starting this tutorial, make sure you've completed the **Semantic Kernel Basics** notebook. You should be familiar with:\n- Basic agent creation and configuration\n- Chat completion services\n- Plugins and function calling\n- Conversation threads\n\n## What You'll Learn\n\n- **Streaming Responses**: Real-time response generation with `invoke_stream()`\n- **Intermediate Steps**: Understanding agent processing with `invoke()`\n- **Structured Outputs**: Enforcing consistent response formats with Pydantic\n- **Reasoning Models**: Enhanced reasoning capabilities with specialized models\n\n## Resources\n- [Agent API Reference](https://learn.microsoft.com/en-us/semantic-kernel/frameworks/agent/agent-api?pivots=programming-language-python)\n- [Reasoning Models](https://learn.microsoft.com/en-us/azure/ai-foundry/openai/how-to/reasoning?tabs=python-secure%2Cpy)\n\n## Next Steps\nAfter completing this tutorial, continue with the **Semantic Kernel Multi-Agent Orchestration** notebook to learn about agent collaboration patterns.\n\nLet's explore these advanced agent features!"
  },
  {
   "cell_type": "markdown",
   "metadata": {},
   "source": [
    "## Setup and Imports\n",
    "\n",
    "Let's start by importing the necessary modules for advanced agent features."
   ]
  },
  {
   "cell_type": "code",
   "execution_count": null,
   "metadata": {},
   "outputs": [
    {
     "name": "stdout",
     "output_type": "stream",
     "text": [
      "✅ Advanced agent imports loaded successfully!\n"
     ]
    }
   ],
   "source": [
    "import asyncio\n",
    "import json\n",
    "import os\n",
    "from dotenv import load_dotenv\n",
    "from pydantic import BaseModel\n",
    "\n",
    "try:\n",
    "    from typing import Annotated\n",
    "except ImportError:\n",
    "    from typing_extensions import Annotated\n",
    "\n",
    "# Core Semantic Kernel imports\n",
    "from semantic_kernel import Kernel\n",
    "from semantic_kernel.agents import Agent, ChatCompletionAgent, ChatHistoryAgentThread\n",
    "from semantic_kernel.connectors.ai.open_ai import AzureChatCompletion, OpenAIChatCompletion\n",
    "from semantic_kernel.connectors.ai.open_ai import OpenAIChatPromptExecutionSettings, AzureChatPromptExecutionSettings\n",
    "from semantic_kernel.functions import kernel_function, KernelArguments\n",
    "from semantic_kernel.contents import ChatMessageContent, TextContent, StreamingChatMessageContent\n",
    "from semantic_kernel.contents.utils.author_role import AuthorRole\n",
    "from semantic_kernel.contents.chat_history import ChatHistory\n",
    "from semantic_kernel.contents import FunctionCallContent, FunctionResultContent\n",
    "\n",
    "# Load environment variables\n",
    "load_dotenv()\n",
    "\n",
    "print(\"✅ Advanced agent imports loaded successfully!\")"
   ]
  },
  {
   "cell_type": "code",
   "execution_count": 61,
   "metadata": {},
   "outputs": [
    {
     "name": "stdout",
     "output_type": "stream",
     "text": [
      "✅ Reasoning model available!\n",
      "✅ Chat completion services configured!\n"
     ]
    }
   ],
   "source": [
    "# Configure the main chat completion service\n",
    "chat_completion = AzureChatCompletion(\n",
    "    api_key=os.getenv(\"AZURE_OPENAI_API_KEY\"),\n",
    "    endpoint=os.getenv(\"AZURE_OPENAI_ENDPOINT\"),\n",
    "    deployment_name=os.getenv(\"AZURE_OPENAI_DEPLOYMENT_NAME\"),\n",
    ")\n",
    "\n",
    "# Configure reasoning model (if available)\n",
    "reasoning_completion = None\n",
    "if os.getenv(\"AZURE_REASONING_ENDPOINT\"):\n",
    "    reasoning_completion = AzureChatCompletion(\n",
    "        api_key=os.getenv(\"AZURE_REASONING_API_KEY\"),\n",
    "        endpoint=os.getenv(\"AZURE_REASONING_ENDPOINT\"),\n",
    "        deployment_name=os.getenv(\"AZURE_REASONING_DEPLOYMENT_NAME\"),\n",
    "        instruction_role=\"developer\",\n",
    "    )\n",
    "    print(\"✅ Reasoning model available!\")\n",
    "\n",
    "print(\"✅ Chat completion services configured!\")"
   ]
  },
  {
   "cell_type": "markdown",
   "metadata": {},
   "source": [
    "## 1. Advanced Agent Features\n",
    "\n",
    "Let's explore advanced agent capabilities including streaming responses and intermediate step handling."
   ]
  },
  {
   "cell_type": "markdown",
   "metadata": {},
   "source": [
    "### 1.1 Streaming Responses\n",
    "\n",
    "Streaming allows you to see responses as they're generated, providing a better user experience for long responses."
   ]
  },
  {
   "cell_type": "code",
   "execution_count": 62,
   "metadata": {},
   "outputs": [],
   "source": [
    "# Create a simple agent for streaming demonstration\n",
    "streaming_agent = ChatCompletionAgent(\n",
    "    service=chat_completion,\n",
    "    name=\"StreamingExpert\",\n",
    "    instructions=\"You are an expert who provides detailed explanations. Give comprehensive responses about topics.\",\n",
    ")"
   ]
  },
  {
   "cell_type": "code",
   "execution_count": 63,
   "metadata": {},
   "outputs": [
    {
     "name": "stdout",
     "output_type": "stream",
     "text": [
      "📝 Regular Response:\n",
      "========================================\n",
      "Renewable energy—power drawn from naturally replenishing sources such as sunlight, wind, water, biomass and geothermal heat—offers a host of long-term advantages over fossil fuels. Below is a detailed look at the principal benefits:\n",
      "\n",
      "1. Environmental Benefits  \n",
      "   • Greenhouse Gas Reductions  \n",
      "     – Solar panels, wind turbines and run-of-river hydro generate electricity without burning carbon-based fuels.  \n",
      "     – Widespread adoption can slash CO₂ emissions, a key driver of global warming and climate change.  \n",
      "   • Improved Air Quality  \n",
      "     – Fossil-fuel power plants emit particulate matter (PM₂.₅ and PM₁₀), sulfur dioxide (SO₂) and nitrogen oxides (NOₓ). Renewables produce little to no air pollutants, reducing smog and respiratory illnesses.  \n",
      "   • Decreased Water Use and Pollution  \n",
      "     – Thermal plants (coal, natural gas, nuclear) require vast amounts of water for cooling. Most renewables (wind, solar PV) need no water; hydro and geothermal use water without chemical contamination.  \n",
      "   • Habitat and Biodiversity Protection  \n",
      "     – While large dams can affect rivers, many renewable installations (e.g., rooftop solar, offshore wind with careful siting) minimize land-use impacts and preserve wildlife corridors better than mining or drilling.\n",
      "\n",
      "2. Economic Benefits  \n",
      "   • Job Creation and Local Investment  \n",
      "     – Renewables are more labor-intensive during installation and maintenance than fossil plants. The sector already employs millions worldwide—in manufacturing, project development, installation and operations.  \n",
      "   • Price Stability and Predictability  \n",
      "     – Fuel costs for coal, oil and gas can fluctuate wildly based on geopolitics. Sunlight and wind are free and inexhaustible, which stabilizes electricity prices over the long term.  \n",
      "   • Energy Access and Cost-Effectiveness  \n",
      "     – In many regions—especially remote or off-grid areas—small-scale solar or micro-hydro systems are cheaper and quicker to deploy than extending centralized grids.  \n",
      "   • Reduced Import Dependency  \n",
      "     – Countries without domestic fossil reserves can harness local renewables to improve their trade balance and buffer against volatile international fuel markets.\n",
      "\n",
      "3. Energy Security and Resilience  \n",
      "   • Diversification of Energy Mix  \n",
      "     – A portfolio including wind, solar, hydro and biomass reduces reliance on any single source. If one resource is scarce (e.g., calm days for wind), others can fill the gap.  \n",
      "   • Decentralized Generation  \n",
      "     – Rooftop solar arrays, community wind farms and local biogas plants spread generation over many sites. This lowers risks of large-scale blackouts and improves system robustness.  \n",
      "   • Rapid Scalability  \n",
      "     – Modular technologies like PV panels or small wind turbines can be deployed incrementally, allowing faster response to demand spikes or emergency situations.\n",
      "\n",
      "4. Public Health and Social Benefits  \n",
      "   • Lower Healthcare Costs  \n",
      "     – By cutting air and water pollution, renewables help reduce asthma, cardiovascular disease, stroke and other pollution-linked conditions—translating into reduced medical expenses and fewer lost workdays.  \n",
      "   • Community Engagement  \n",
      "     – Community-owned wind or solar projects deliver direct financial benefits (dividends, lower utility bills) and foster local buy-in for the energy transition.  \n",
      "   • Energy Equity  \n",
      "     – Distributed renewable systems can reach underserved communities, schools and hospitals, promoting universal energy access and social inclusivity.\n",
      "\n",
      "5. Technological Innovation and Infrastructure Modernization  \n",
      "   • Smart Grids and Storage Integration  \n",
      "     – Growth in renewables drives advances in battery storage, demand-response systems and smart inverters, making grids more flexible and efficient.  \n",
      "   • Research and Development Spill-Overs  \n",
      "     – Investment in renewable R&D generates breakthroughs in materials science (next-gen solar cells, advanced composites for turbines) and software (grid management, forecasting algorithms), with benefits extending beyond energy.  \n",
      "   • Infrastructure Upgrades  \n",
      "     – Integrating renewables often requires modernizing transmission and distribution networks, reducing technical losses and improving reliability.\n",
      "\n",
      "6. Long-Term Sustainability  \n",
      "   • Infinite Resource Base  \n",
      "     – Unlike finite fossil reserves, solar and wind are continuously replenished on human timescales. Over centuries, our energy supply need not deplete or require risky new exploration.  \n",
      "   • Alignment with Climate Goals  \n",
      "     – To keep global temperature rise below 1.5–2.0 °C, the Intergovernmental Panel on Climate Change (IPCC) and many governments mandate rapid decarbonization—goals best met through massive renewable deployment.  \n",
      "   • Intergenerational Equity  \n",
      "     – By preserving environmental quality and avoiding costly climate damages, renewables uphold the principle that future generations have the right to a healthy planet and reliable energy.\n",
      "\n",
      "7. Challenges and Mitigations (for balance)  \n",
      "   Although renewables bring myriad benefits, they also pose integration challenges—variable output, land-use planning, and resource competition. These can be addressed through:  \n",
      "     – Geographic and technological diversification of renewable sources  \n",
      "     – Energy storage (batteries, pumped hydro, thermal storage) to smooth supply  \n",
      "     – Advanced grid management and demand-side flexibility programs  \n",
      "     – Thoughtful siting and community consultation to minimize ecological and social impacts\n",
      "\n",
      "Conclusion  \n",
      "The transition to renewable energy offers a holistic win: it combats climate change, fosters economic growth, improves public health, strengthens energy security and paves the way for a sustainable future. While technical and policy challenges remain, continued investment, innovation and thoughtful planning will ensure that renewables form the backbone of a resilient, equitable and low-carbon energy system.\n",
      "\n",
      "========================================\n"
     ]
    }
   ],
   "source": [
    "# Example 1: Regular (non-streaming) response\n",
    "print(\"📝 Regular Response:\")\n",
    "print(\"=\" * 40)\n",
    "response = await streaming_agent.get_response(\n",
    "    messages=\"Explain the benefits of renewable energy in detail.\"\n",
    ")\n",
    "print(response.message.content)\n",
    "\n",
    "print(\"\\n\" + \"=\" * 40)"
   ]
  },
  {
   "cell_type": "code",
   "execution_count": 64,
   "metadata": {},
   "outputs": [
    {
     "name": "stdout",
     "output_type": "stream",
     "text": [
      "🌊 Streaming Response:\n",
      "========================================\n",
      "Implementing AI in healthcare promises improved diagnostics, personalized treatment and operational efficiencies—but it also comes with a host of challenges. Key hurdles include:\n",
      "\n",
      "1. Data-Related Challenges  \n",
      "   • Quality and consistency: Clinical data often reside in disparate systems and formats (free text notes, scans, lab values), making standardization and cleaning difficult.  \n",
      "   • Volume and labeling: Many AI models require large, well-annotated datasets. Labeling medical images or records is time-consuming and typically requires expert clinicians.  \n",
      "   • Interoperability: Electronic health records (EHRs) from different vendors rarely “speak the same language,” hampering data exchange and aggregation for AI training.\n",
      "\n",
      "2. Privacy, Security and Compliance  \n",
      "   • Patient confidentiality: Regulations such as HIPAA (U.S.) or GDPR (EU) impose strict controls on how patient data can be used, shared or de-identified.  \n",
      "   • Cybersecurity risks: Centralizing sensitive health data for AI increases the attack surface for hackers; robust encryption, access controls and monitoring are essential.  \n",
      "   • Regulatory approval: AI models that influence clinical decisions often require clearance from bodies like the FDA or EMA, which demand rigorous validation and ongoing monitoring.\n",
      "\n",
      "3. Technical Integration and Infrastructure  \n",
      "   • Legacy systems: Many hospitals run on outdated IT infrastructure. Retrofitting or replacing these systems to support AI workflows can be expensive and disruptive.  \n",
      "   • Real-time performance: AI tools must deliver fast, reliable results within existing clinical workflows (e.g., during surgery or in the ER), requiring high-availability compute clusters or edge-computing solutions.  \n",
      "   • Scalability and maintenance: Models must be retrained as new data arrive and hospital processes evolve. Building the DevOps pipelines to manage this at scale is nontrivial.\n",
      "\n",
      "4. Model Interpretability and Trust  \n",
      "   • “Black box” concerns: Deep learning models often lack transparent reasoning, making clinicians wary of relying on recommendations they don’t understand.  \n",
      "   • Explainable AI (XAI): Techniques to surface feature-importance or generate human-readable rationales are advancing, but they’re not yet standard in clinical tools.  \n",
      "   • Validation in real-world settings: Performance on retrospective datasets may not carry over to diverse patient populations, undermining trust when unexpected errors occur.\n",
      "\n",
      "5. Bias, Fairness and Generalizability  \n",
      "   • Biased training data: If datasets under-represent certain demographics (ethnicities, age groups, rare conditions), AI can perpetuate or amplify health disparities.  \n",
      "   • Continuous monitoring: Ensuring equitable performance across subgroups requires ongoing audits and potential model adjustments.\n",
      "\n",
      "6. Organizational and Cultural Barriers  \n",
      "   • Resistance to change: Clinicians may see AI as a threat to professional expertise or workflow autonomy. Enlisting “physician champions” and providing hands-on training can help.  \n",
      "   • Workflow integration: AI outputs must be seamlessly embedded into existing routines (EHR dashboards, PACS viewers) rather than as isolated stand-alone apps.\n",
      "\n",
      "7. Legal and Liability Issues  \n",
      "   • Accountability: When an AI-driven decision leads to harm, it’s unclear whether liability rests with the software vendor, the deploying hospital or the individual clinician.  \n",
      "   • Malpractice coverage: Insurers are still defining how AI-related claims will be underwritten and reimbursed.\n",
      "\n",
      "8. Cost, ROI and Business Models  \n",
      "   • Up-front investment: Data infrastructure, model development, validation studies and staff training can cost millions before any return.  \n",
      "   • Reimbursement uncertainty: Payers are only just starting to recognize AI-enabled procedures and diagnostics as billable services.\n",
      "\n",
      "9. Patient Engagement and Ethical Considerations  \n",
      "   • Informed consent: Patients need clarity on how AI will be used in their care and what data are being shared.  \n",
      "   • Transparency: Ethical deployment demands that patients understand when and why AI is influencing diagnoses or treatment plans.\n",
      "\n",
      "Overcoming these challenges requires close collaboration among clinicians, data scientists, IT teams, ethicists and regulators. Only by addressing data quality, security, regulation, interpretability, bias and cultural adoption in parallel can healthcare systems safely realize the full potential of AI.\n",
      "\n",
      "✅ Streaming examples completed!\n",
      "✅ Analysis agent created for next section!\n"
     ]
    }
   ],
   "source": [
    "# Example 2: Streaming response using invoke_stream()\n",
    "print(\"🌊 Streaming Response:\")\n",
    "print(\"=\" * 40)\n",
    "async for streaming_response in streaming_agent.invoke_stream(\n",
    "    messages=\"Explain the challenges of implementing AI in healthcare.\"\n",
    "):\n",
    "    # This shows the response as it's being generated in real-time\n",
    "    print(streaming_response.content, end=\"\", flush=True)\n",
    "\n",
    "print(\"\\n\\n✅ Streaming examples completed!\")\n",
    "\n",
    "# Create an agent with the analysis plugin for the next section\n",
    "analysis_agent = ChatCompletionAgent(\n",
    "    service=chat_completion,\n",
    "    name=\"AnalysisExpert\",\n",
    "    instructions=\"You are an expert analyst. Use your tools to provide thorough analysis and recommendations.\",\n",
    "    plugins=[AnalysisPlugin()]\n",
    ")\n",
    "\n",
    "print(\"✅ Analysis agent created for next section!\")"
   ]
  },
  {
   "cell_type": "markdown",
   "metadata": {},
   "source": [
    "### 1.2 Intermediate Steps with invoke()\n",
    "\n",
    "**Understanding Agent Methods:**\n",
    "\n",
    "- **`get_response()`**: Provides the final response only - blocks until the agent is completely done processing\n",
    "- **`invoke()`**: Allows you to see the agent's step-by-step thinking process, including intermediate function calls and results\n",
    "- **`invoke_stream()`**: Provides real-time streaming of the response as it's being generated\n",
    "\n",
    "The `invoke()` method is particularly useful when you want to understand how the agent is working with plugins and function calls."
   ]
  },
  {
   "cell_type": "code",
   "execution_count": 65,
   "metadata": {},
   "outputs": [],
   "source": [
    "class AnalysisPlugin:\n",
    "    \"\"\"Plugin that provides analysis capabilities.\"\"\"\n",
    "    \n",
    "    @kernel_function(description=\"Analyze a topic and provide insights.\")\n",
    "    def analyze_topic(self, topic: Annotated[str, \"The topic to analyze\"]) -> str:\n",
    "        # Simulate analysis processing\n",
    "        return f\"Analysis of '{topic}': This is a complex topic that requires careful consideration of multiple factors including market trends, user needs, and technical feasibility.\"\n",
    "    \n",
    "    @kernel_function(description=\"Generate recommendations based on analysis.\")\n",
    "    def generate_recommendations(self, analysis: Annotated[str, \"The analysis to base recommendations on\"]) -> str:\n",
    "        return \"Recommendations: 1) Conduct further research, 2) Develop a prototype, 3) Test with users, 4) Iterate based on feedback.\"\n"
   ]
  },
  {
   "cell_type": "code",
   "execution_count": 66,
   "metadata": {},
   "outputs": [
    {
     "name": "stdout",
     "output_type": "stream",
     "text": [
      "🎯 Task: Analyze the potential of AI-powered educational tools and provide recommendations.\n",
      "============================================================\n",
      "📞 Function Call: AnalysisPlugin-analyze_topic with arguments: {\"topic\":\"AI-powered educational tools\"}\n",
      "🔧 Function Result: Analysis of 'AI-powered educational tools': This is a complex topic that requires careful consideration of multiple factors including market trends, user needs, and technical feasibility.\n",
      "📞 Function Call: AnalysisPlugin-generate_recommendations with arguments: {\"analysis\":\"1. Market Trends: The global edtech market is projected to expand at a CAGR of over 15% through the next five years, driven by increased digital adoption, remote learning needs, and demand for personalized instruction.\\n\\n2. Learner Needs: Students across age groups seek adaptive, self-paced learning with instant feedback. Educators need tools that reduce administrative burden, support differentiated instruction, and align with curriculum standards.\\n\\n3. Technical Feasibility: Advances in natural language processing, machine learning, and speech recognition enable intelligent tutoring systems, automated grading, and conversational agents. Cloud platforms and mobile accessibility support scalable deployment.\\n\\n4. Challenges:\\n   - Data Privacy & Security: Handling sensitive student data requires strict compliance with GDPR, FERPA, COPPA, etc.\\n   - Equity & Access: The digital divide persists; many learners lack reliable internet or devices.\\n   - Teacher Adoption & Training: Effective use of AI tools depends on teachers’ comfort with technology and pedagogical integration.\\n   - Curriculum Integration & Standardization: Solutions must map to diverse educational standards and workflows.\\n   - Ethical Concerns & Bias: AI models can exhibit bias; transparency and explainability are essential.\\n\\n5. Opportunities:\\n   - Personalized Learning Paths: Dynamic content recommendation and skill gap analysis.\\n   - Special & Inclusive Education: Speech-to-text, text-to-speech, and customized interfaces for learners with disabilities.\\n   - Corporate & Lifelong Learning: Upskilling platforms with AI-driven career-path recommendations.\\n   - Gamification & Engagement: Adaptive challenges, achievement tracking, and social learning features.\\n\\n6. Competitive Landscape: A mix of established edtech firms and agile AI-first startups. Partnerships with schools, universities, and governments are common entry strategies.\\n\\n7. Regulatory Environment: Governments worldwide are issuing guidelines for AI in education, emphasizing transparency, accountability, and fairness.\\n\\nConclusion: AI-powered educational tools have significant growth potential and can transform learning at scale. Success hinges on solving privacy, equity, and integration challenges, while demonstrating measurable learning outcomes.\"}\n",
      "🔧 Function Result: Recommendations: 1) Conduct further research, 2) Develop a prototype, 3) Test with users, 4) Iterate based on feedback.\n",
      "✅ Final Response from AnalysisExpert: Below is a concise set of high-level recommendations based on the analysis of AI-powered educational tools:\n",
      "\n",
      "1. Deepen Market & User Research  \n",
      "   • Validate demand segments (K–12, higher ed, corporate, special needs) through surveys, focus groups, and pilot programs.  \n",
      "   • Identify key pain points for both learners (e.g., personalization, engagement) and instructors (e.g., grading, classroom management).\n",
      "\n",
      "2. Build a Minimum Viable Product (MVP)  \n",
      "   • Prioritize a core feature set—such as adaptive learning pathways or automated feedback—that leverages natural language processing or machine learning.  \n",
      "   • Ensure cloud-based, mobile-friendly deployment for broad accessibility.\n",
      "\n",
      "3. Embed Privacy, Security & Ethics by Design  \n",
      "   • Implement robust data-protection measures aligned with GDPR, FERPA, COPPA, and other relevant standards.  \n",
      "   • Use bias-mitigation techniques in model training and maintain transparency with “explainable AI” features.\n",
      "\n",
      "4. Promote Equity & Accessibility  \n",
      "   • Provide offline or low-bandwidth modes to serve underconnected areas.  \n",
      "   • Include assistive technologies (speech-to-text, text-to-speech, adjustable UI) to support learners with disabilities.\n",
      "\n",
      "5. Support Educators through Professional Development  \n",
      "   • Design onboarding resources and training modules that guide teachers on integrating AI tools pedagogically.  \n",
      "   • Offer ongoing technical support and a community forum for best-practice sharing.\n",
      "\n",
      "6. Collaborate with Standards Bodies & Institutions  \n",
      "   • Align content and assessments with regional/national educational standards.  \n",
      "   • Establish partnerships or pilot agreements with schools, universities, and government agencies to accelerate adoption.\n",
      "\n",
      "7. Measure & Iterate on Learning Outcomes  \n",
      "   • Define clear KPIs (e.g., student engagement scores, achievement gains, time-to-competency).  \n",
      "   • Run controlled trials comparing AI-enhanced instruction vs. traditional methods, and refine features based on data.\n",
      "\n",
      "8. Expand Strategically  \n",
      "   • After initial validation, widen the offering to adjacent markets (corporate training, lifelong learning).  \n",
      "   • Explore gamification, social-learning, and career-path recommendations to drive engagement and retention.\n",
      "\n",
      "By following these steps—grounded in sound research, ethical design, and measurable impact—you can maximize the potential of AI-powered educational tools to transform learning at scale.\n"
     ]
    }
   ],
   "source": [
    "async def handle_intermediate_steps(message: ChatMessageContent) -> None:\n",
    "    \"\"\"Handle intermediate steps in the agent's processing.\"\"\"\n",
    "    for item in message.items or []:\n",
    "        if isinstance(item, FunctionResultContent):\n",
    "            print(f\"🔧 Function Result: {item.result}\")\n",
    "        elif isinstance(item, FunctionCallContent):\n",
    "            print(f\"📞 Function Call: {item.name} with arguments: {item.arguments}\")\n",
    "        else:\n",
    "            print(f\"💭 {message.name}: {message.content}\")\n",
    "\n",
    "# Test intermediate steps\n",
    "task = \"Analyze the potential of AI-powered educational tools and provide recommendations.\"\n",
    "print(f\"🎯 Task: {task}\")\n",
    "print(\"=\" * 60)\n",
    "\n",
    "async for response in analysis_agent.invoke(\n",
    "    messages=task,\n",
    "    on_intermediate_message=handle_intermediate_steps\n",
    "):\n",
    "    print(f\"✅ Final Response from {response.name}: {response.content}\")"
   ]
  },
  {
   "cell_type": "code",
   "execution_count": 67,
   "metadata": {},
   "outputs": [
    {
     "name": "stdout",
     "output_type": "stream",
     "text": [
      "📞 Function Call: AnalysisPlugin-analyze_topic with arguments: {\"topic\":\"AI-powered educational tools\"}\n",
      "🔧 Function Result: Analysis of 'AI-powered educational tools': This is a complex topic that requires careful consideration of multiple factors including market trends, user needs, and technical feasibility.\n",
      "📞 Function Call: AnalysisPlugin-analyze_topic with arguments: {\"topic\":\"AI-powered educational tools\"}\n",
      "🔧 Function Result: Analysis of 'AI-powered educational tools': This is a complex topic that requires careful consideration of multiple factors including market trends, user needs, and technical feasibility.\n",
      "📞 Function Call: AnalysisPlugin-generate_recommendations with arguments: {\"analysis\":\"AI-powered educational tools are showing significant growth potential due to several factors:\\n• Market Trends: The global edtech market is expanding rapidly, projected to reach $404B by 2025. AI adoption within edtech is accelerating, fueled by demand for personalized learning, analytics, and automation.\\n• User Needs: Learners seek adaptive, engaging content that responds to their performance in real-time. Educators need tools to reduce administrative burden (grading, lesson planning) and gain insights into student progress.\\n• Technical Feasibility: Advances in natural language processing, computer vision, and predictive analytics enable sophisticated tutoring, content generation, and assessment capabilities. Cloud infrastructure and API ecosystems facilitate integration into existing learning management systems.\\n• Competitive Landscape: Major players (e.g., Coursera, Khan Academy) are integrating AI features, while startups focus on niche areas like language learning, STEM tutoring, and special education. Differentiation lies in proprietary algorithms, data access, and domain expertise.\\n• Regulatory and Ethical Considerations: Data privacy (FERPA, GDPR) and algorithmic bias are critical. Ensuring transparency, fairness, and compliance will be key for adoption.\\n• Barriers to Entry: High development costs for robust AI models, need for large datasets, and securing partnerships with educational institutions. However, open-source frameworks lower entry costs.\\n• Revenue Models: Subscription-based platforms, licensing to schools, freemium models with in-app purchases, and B2B partnerships with educational publishers.\\n\\nOverall, the potential is strong, driven by demand for personalized, scalable, and data-driven educational experiences. Companies that prioritize user-centric design, robust data governance, and seamless integration will be well-positioned to capture market share.\"}\n",
      "🔧 Function Result: Recommendations: 1) Conduct further research, 2) Develop a prototype, 3) Test with users, 4) Iterate based on feedback.\n",
      "Below is a set of strategic recommendations based on the analysis of AI-powered educational tools:\n",
      "\n",
      "1. Refine Market Positioning  \n",
      "   • Identify sub-segments where AI can deliver the greatest impact (e.g., adaptive tutoring for K–12 STEM, language learning, or special-needs education).  \n",
      "   • Benchmark competitors and articulate clear differentiation (proprietary data, superior algorithms, UX design).\n",
      "\n",
      "2. Build a Minimum Viable Product (MVP)  \n",
      "   • Focus on a core AI feature that meets a critical user need (e.g., real-time adaptive quizzes, automated essay feedback).  \n",
      "   • Leverage open-source models and cloud APIs to accelerate development and control costs.\n",
      "\n",
      "3. Pilot and Iterate with Target Users  \n",
      "   • Partner with a small cohort of schools or tutoring centers to deploy the MVP.  \n",
      "   • Collect quantitative and qualitative feedback on usability, learning outcomes, and integration challenges.  \n",
      "   • Rapidly iterate on the product based on real-world insights.\n",
      "\n",
      "4. Establish Strong Data Governance and Compliance  \n",
      "   • Design data-handling processes that meet FERPA, GDPR, and other relevant regulations.  \n",
      "   • Implement transparency and bias-mitigation protocols to build trust with educators, parents, and institutions.\n",
      "\n",
      "5. Develop a Scalable Go-to-Market Strategy  \n",
      "   • Start with a freemium or pilot-license model to lower initial adoption barriers.  \n",
      "   • Offer tiered subscriptions or institutional licensing as you prove learning efficacy.  \n",
      "   • Leverage partnerships with publishers, edtech platforms, and professional associations to expand reach.\n",
      "\n",
      "6. Invest in Continuous Improvement  \n",
      "   • Use A/B testing and learning analytics to refine AI models and content personalization.  \n",
      "   • Monitor key metrics (engagement rates, learning gains, retention) to guide product roadmap decisions.  \n",
      "   • Explore adjacent features (gamification layers, tutor dashboards, parent portals) to deepen user engagement.\n",
      "\n",
      "By following these steps—focusing on a well-defined niche, delivering rapid user value, ensuring ethical data practices, and scaling thoughtfully—you can maximize the potential of AI-powered educational tools and secure a strong foothold in the evolving edtech landscape."
     ]
    }
   ],
   "source": [
    "# Straming with intermediate steps\n",
    "async for streaming_response in analysis_agent.invoke_stream(\n",
    "    messages=task,\n",
    "    on_intermediate_message=handle_intermediate_steps\n",
    "):\n",
    "    print(streaming_response.content, end=\"\", flush=True)\n",
    "    "
   ]
  },
  {
   "cell_type": "markdown",
   "metadata": {},
   "source": [
    "### 1.3 Structured Outputs with Pydantic\n",
    "\n",
    "You can enforce structured responses using Pydantic models, ensuring consistent output format."
   ]
  },
  {
   "cell_type": "code",
   "execution_count": 68,
   "metadata": {},
   "outputs": [
    {
     "name": "stdout",
     "output_type": "stream",
     "text": [
      "🧮 Problem: Solve: 3x + 7 = 22\n",
      "\n",
      "📚 Structured Solution:\n",
      "{\n",
      "  \"steps\": [\n",
      "    {\n",
      "      \"explanation\": \"Subtract 7 from both sides to isolate the term with x.\",\n",
      "      \"output\": \"3x = 22 - 7 = 15\"\n",
      "    },\n",
      "    {\n",
      "      \"explanation\": \"Divide both sides by 3 to solve for x.\",\n",
      "      \"output\": \"x = 15 / 3 = 5\"\n",
      "    }\n",
      "  ],\n",
      "  \"final_answer\": \"x = 5\"\n",
      "}\n"
     ]
    }
   ],
   "source": [
    "# Define structured output models\n",
    "class Step(BaseModel):\n",
    "    explanation: str\n",
    "    output: str\n",
    "\n",
    "class MathSolution(BaseModel):\n",
    "    steps: list[Step]\n",
    "    final_answer: str\n",
    "\n",
    "# Create an agent with structured output\n",
    "settings = AzureChatPromptExecutionSettings()\n",
    "settings.response_format = MathSolution\n",
    "\n",
    "math_agent = ChatCompletionAgent(\n",
    "    service=chat_completion,\n",
    "    name=\"MathTutor\",\n",
    "    instructions=\"You are a math tutor. Solve problems step by step and provide clear explanations.\",\n",
    "    arguments=KernelArguments(settings=settings)\n",
    ")\n",
    "\n",
    "# Test structured output\n",
    "problem = \"Solve: 3x + 7 = 22\"\n",
    "print(f\"🧮 Problem: {problem}\")\n",
    "\n",
    "response = await math_agent.get_response(messages=problem)\n",
    "solution = MathSolution.model_validate(json.loads(response.message.content))\n",
    "\n",
    "print(\"\\n📚 Structured Solution:\")\n",
    "print(solution.model_dump_json(indent=2))"
   ]
  },
  {
   "cell_type": "markdown",
   "metadata": {},
   "source": [
    "### 1.4 Reasoning Models (if available)\n",
    "\n",
    "Some models like O1 provide enhanced reasoning capabilities. Let's test if we have access to reasoning models."
   ]
  },
  {
   "cell_type": "code",
   "execution_count": 69,
   "metadata": {},
   "outputs": [
    {
     "name": "stdout",
     "output_type": "stream",
     "text": [
      "🧠 Testing reasoning model...\n",
      "🧠 Reasoning Response: Here’s a step‐by‐step solution by elimination:\n",
      "\n",
      "We want to solve  \n",
      "(1) 2x + 3y = 7  \n",
      "(2) 4x − y = 1  \n",
      "\n",
      "1. Eliminate y.  Multiply (2) by 3:  \n",
      "   3·(4x − y) = 3·1  \n",
      "   ⇒ 12x − 3y = 3  \n",
      "\n",
      "2. Add this to (1):  \n",
      "   (2x + 3y) + (12x − 3y) = 7 + 3  \n",
      "   ⇒ 14x = 10  \n",
      "   ⇒ x = 10/14 = 5/7  \n",
      "\n",
      "3. Substitute x = 5/7 back into, say, (1):  \n",
      "   2·(5/7) + 3y = 7  \n",
      "   ⇒ 10/7 + 3y = 7  \n",
      "   ⇒ 3y = 7 − 10/7 = 49/7 − 10/7 = 39/7  \n",
      "   ⇒ y = (39/7)/3 = 39/21 = 13/7  \n",
      "\n",
      "4. (Optional check in (2)):  \n",
      "   4·(5/7) − (13/7) = 20/7 − 13/7 = 7/7 = 1 ✓  \n",
      "\n",
      "Answer:  \n",
      "x = 5/7, y = 13/7.\n",
      "\n",
      "🤔 User: Is the solution correct? Explain.\n",
      "🧠 Reasoning Response: Yes. You can verify by substituting x=5/7 and y=13/7 into both equations:\n",
      "\n",
      "1. 2x + 3y  \n",
      "   = 2·(5/7) + 3·(13/7)  \n",
      "   = 10/7 + 39/7  \n",
      "   = 49/7  \n",
      "   = 7  ✓\n",
      "\n",
      "2. 4x − y  \n",
      "   = 4·(5/7) − (13/7)  \n",
      "   = 20/7 − 13/7  \n",
      "   = 7/7  \n",
      "   = 1  ✓\n",
      "\n",
      "Since both original equations are satisfied, the solution x=5/7, y=13/7 is indeed correct.\n"
     ]
    }
   ],
   "source": [
    "if reasoning_completion:\n",
    "    print(\"🧠 Testing reasoning model...\")\n",
    "    \n",
    "    reasoning_settings = AzureChatPromptExecutionSettings(\n",
    "        service_id=\"reasoning\",\n",
    "        reasoning_effort=\"high\"\n",
    "    )\n",
    "    \n",
    "    reasoning_agent = ChatCompletionAgent(\n",
    "        name=\"ReasoningExpert\",\n",
    "        instructions=\"You are an expert problem solver. Think through complex problems step by step.\",\n",
    "        service=reasoning_completion,\n",
    "    )\n",
    "    \n",
    "    thread = ChatHistoryAgentThread()\n",
    "    response = await reasoning_agent.get_response(\n",
    "        messages=\"Solve: 2x + 3y = 7, 4x - y = 1. Show your reasoning.\", \n",
    "        thread=thread\n",
    "    )\n",
    "    \n",
    "    print(f\"🧠 Reasoning Response: {response.message.content}\")\n",
    "\n",
    "    # Add another user message to the thread\n",
    "    print(\"\\n🤔 User: Is the solution correct? Explain.\")\n",
    "    response = await reasoning_agent.get_response(\n",
    "        messages=\"Is the solution correct? Explain.\", \n",
    "        thread=thread\n",
    "    )\n",
    "    print(f\"🧠 Reasoning Response: {response.message.content}\")\n",
    "else:\n",
    "    print(\"⚠️ Reasoning model not configured. Skipping reasoning example.\")\n",
    "    print(\"💡 To enable reasoning, configure AZURE_REASONING_* environment variables.\")"
   ]
  },
  {
   "cell_type": "code",
   "execution_count": 70,
   "metadata": {},
   "outputs": [
    {
     "name": "stdout",
     "output_type": "stream",
     "text": [
      "📝 Message from AuthorRole.USER: Solve: 2x + 3y = 7, ...\n",
      "📝 Message from AuthorRole.ASSISTANT: Here’s a step‐by‐ste...\n",
      "    🔍 Usage: {'prompt_tokens': 55, 'prompt_tokens_details': {'audio_tokens': 0, 'cached_tokens': 0}, 'completion_tokens': 902, 'completion_tokens_details': {'accepted_prediction_tokens': 0, 'audio_tokens': 0, 'reasoning_tokens': 576, 'rejected_prediction_tokens': 0}}\n",
      "📝 Message from AuthorRole.USER: Is the solution corr...\n",
      "📝 Message from AuthorRole.ASSISTANT: Yes. You can verify ...\n",
      "    🔍 Usage: {'prompt_tokens': 383, 'prompt_tokens_details': {'audio_tokens': 0, 'cached_tokens': 0}, 'completion_tokens': 429, 'completion_tokens_details': {'accepted_prediction_tokens': 0, 'audio_tokens': 0, 'reasoning_tokens': 256, 'rejected_prediction_tokens': 0}}\n"
     ]
    }
   ],
   "source": [
    "# You can see the reasoning tokens used by the agent\n",
    "async for message in thread.get_messages():\n",
    "    print(f\"📝 Message from {message.role}: {message.content[:20]}...\")\n",
    "    if message.metadata.get(\"usage\", None):\n",
    "        print(f\"    🔍 Usage: {message.metadata['usage'].model_dump()}\")"
   ]
  },
  {
   "cell_type": "code",
   "execution_count": 71,
   "metadata": {},
   "outputs": [],
   "source": [
    "await thread.delete()"
   ]
  },
  {
   "cell_type": "markdown",
   "metadata": {},
   "source": "## 🎉 Congratulations!\n\nYou've successfully completed the Advanced Agent Features tutorial! Here's what you've mastered:\n\n### ✅ Advanced Agent Capabilities:\n1. **Streaming Responses** - Real-time response generation with `invoke_stream()`\n2. **Intermediate Steps** - Understanding agent processing with `invoke()` and callbacks\n3. **Structured Outputs** - Enforcing consistent response formats with Pydantic models\n4. **Reasoning Models** - Enhanced reasoning capabilities with specialized models and token tracking\n\n### 🔧 Key Agent Methods:\n- **`get_response()`** - Blocking call that returns the final response\n- **`invoke()`** - Non-blocking call that shows intermediate steps and function calls\n- **`invoke_stream()`** - Real-time streaming of responses as they're generated\n\n### 🚀 What's Next?\nNow that you've mastered individual agent capabilities, you're ready to explore multi-agent systems! Continue with the **Semantic Kernel Multi-Agent Orchestration** notebook to learn about:\n- Group chat orchestration patterns\n- Concurrent and sequential processing\n- Handoff systems\n- Human-in-the-loop workflows\n\n### 📚 Additional Resources:\n- [Agent API Reference](https://learn.microsoft.com/en-us/semantic-kernel/frameworks/agent/agent-api?pivots=programming-language-python)\n- [Reasoning Models Documentation](https://learn.microsoft.com/en-us/azure/ai-foundry/openai/how-to/reasoning?tabs=python-secure%2Cpy)\n- [Plugin Development](https://learn.microsoft.com/en-us/semantic-kernel/concepts/plugins/)\n\nGreat work! You're now ready to build sophisticated AI agents with advanced capabilities. 🚀"
  }
 ],
 "metadata": {
  "kernelspec": {
   "display_name": ".venv",
   "language": "python",
   "name": "python3"
  },
  "language_info": {
   "codemirror_mode": {
    "name": "ipython",
    "version": 3
   },
   "file_extension": ".py",
   "mimetype": "text/x-python",
   "name": "python",
   "nbconvert_exporter": "python",
   "pygments_lexer": "ipython3",
   "version": "3.12.3"
  }
 },
 "nbformat": 4,
 "nbformat_minor": 4
}